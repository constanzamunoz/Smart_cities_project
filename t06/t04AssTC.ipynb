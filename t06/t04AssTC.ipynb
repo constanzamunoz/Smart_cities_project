{
 "cells": [
  {
   "cell_type": "markdown",
   "id": "ae5be397-9849-453c-9419-6f3d8631d73c",
   "metadata": {},
   "source": [
    "# Assembling thermal circuits\n",
    "\n",
    "Objectives:\n",
    "* Assemble complex circuits.\n",
    "* Simulate the assembled circuits."
   ]
  },
  {
   "cell_type": "code",
   "execution_count": 1,
   "id": "adea2685-af71-4706-a016-a6a56a7300ac",
   "metadata": {},
   "outputs": [
    {
     "name": "stdout",
     "output_type": "stream",
     "text": [
      "Maximum time step in free-floating: 479.08 s\n"
     ]
    }
   ],
   "source": [
    "import numpy as np\n",
    "import pandas as pd\n",
    "import matplotlib.pyplot as plt\n",
    "import dm4bem\n",
    "import tuto"
   ]
  },
  {
   "cell_type": "markdown",
   "id": "a7fe9a11-e232-4daf-a720-41788accbc61",
   "metadata": {
    "tags": []
   },
   "source": [
    "## Defining the problem of circuit assembling\n",
    "\n",
    "The problem of assembling thermal circuits can be stated as:\n",
    "\n",
    "Given a number of thermal circuits, $TC_1$, $TC_2$, ... , $TC_n$, and knowing that some of their nodes are common, find the assembled circuit TC (see figure below).\n",
    "\n",
    "![circuit](t04_circuit.png)\n",
    "> Example of the problem of assembling thermal circuits: given four circuits, assemble them knowing the common nodes. The heat-flow sources and the capacities in the nodes are divided for each circuit\n",
    "\n",
    "From conservation of energy, it results that if there is a flow source in the node, it needs to be the sum of the sources of each circuit; a simple solution is to be divided equally by each circuit. From conservation of mass, it results that if there is a common capacity in the node, it needs to be the sum of the sources of each circuit; a simple solution is to be divided equally by each circuit.\n",
    "\n",
    "To exemplify the procedure, we will use the same model from tutorial `t03CubeFB` representing a room with insulated concrete wall and a glass wall. The room is ventilated and the temperature is controlled by a P-controller to which additional load is added. The toy model is used to show specific aspects of the assembling procedure, not for correctness of the modelling.\n",
    "\n",
    "![assembling](t04_assembling.png)\n",
    "> Elementary models that will be assembled\n",
    "\n",
    "![matrices](t04_matrices.png)\n",
    "> Algebraic representation of the termal circuit: a) Assemblu-connectivity matrix; b) elementary thermal circuits.\n",
    "\n",
    "We would like to construct separate models for concrete wall, glass wall, ventilation, and room air and to assemble them into one model (see figure above).\n",
    "\n",
    "## Numbering the circuits\n",
    "\n",
    "### Numbering elementary circuits\n",
    "\n",
    "In principle, the numbering of the nodes and branches can be done arbitrarily. The connections are indicated by the oriented incidence matrix **A**. Since numbering becomes tedious for large circuits, the following rules may be adopted:\n",
    "- number the nodes in order (e.g. from left to right);\n",
    "- number the branches in increasing order of nodes and orient them from the lower to the higher node. Note: reference temperature is node 0.\n",
    "\n",
    "### Numbering the assembled circuit\n",
    "When assembling the thermal circuits, some nodes are put in common. Therefore, the number of nodes in the assembled circuit will be smaller than the sum of the nodes of elementary circuits. The number of branches will not change. The nodes and the branches of the assembled circuit will be in the order of assembling.\n",
    "\n",
    "|Local and global indexing of nodes|\n",
    "|----------------------------------|\n",
    "\n",
    "|Thermal circuit  |TC1       |TC2     |TC3  |TC4|\n",
    "|-----------------|----------|--------|-----|-|\n",
    "|Local node index |1 2 3 4 5 |1  2  3 |1  2 |1|\n",
    "|Global node index|1 2 3 4 5 |5  6  7 |8  6 |7|\n",
    "\n",
    "|Local and global indexing of branches|\n",
    "|-------------------------------------|\n",
    "\n",
    "|Thermal circuit    |TC1       |TC2   |TC3  |TC4 |\n",
    "|-------------------|----------|--------|-----|-|\n",
    "|Local branch index |1 2 3 4 5 |1 2 3 |1 2  | 1 2|\n",
    "|Global branch index|1 2 3 4 5 |6 7 8 |9 10 |11 12|\n",
    "\n",
    "The assembling of the circuits is indicated by the assembling matrix. Each row of this matrix has four elements that indicate two nodes that will be put together:\n",
    "- number of circuit 1\n",
    "- node of circuit 1\n",
    "- number of circuit 2 \n",
    "- node of circuit 2\n",
    "\n",
    "For our example, the assembling matrix is:\n",
    "\n",
    "$$\\mathbf{A_{ss}} =\\begin{bmatrix}\n",
    "0 & 4 & 1 & 0\\\\ \n",
    "1 & 1 & 2 & 1\\\\ \n",
    "1 & 2 & 3 & 0\n",
    "\\end{bmatrix}$$\n",
    "\n",
    "The description of the disassembled circuits, given by the dictionary $TC_d = \\{TC_0,…,TC_n\\}$ of dictionaries $TC_i=\\{A_i,G_i,b_i,C_i,f_i,y_i\\}$, and the assembling matrix $A_{ss}$ contain all the necessary information for obtaining the assembled circuit. "
   ]
  },
  {
   "cell_type": "markdown",
   "id": "7c381777-a86c-41a0-8c2f-6828a3593868",
   "metadata": {
    "tags": []
   },
   "source": [
    "## Procedure for assembling\n",
    "The assembling is implemented in function `thermal_circuit(Kp)`."
   ]
  },
  {
   "cell_type": "raw",
   "id": "8a796413-d2ad-435d-b70e-aa7b5ef211a9",
   "metadata": {},
   "source": [
    "def thermal_circuit(Kp):"
   ]
  },
  {
   "cell_type": "markdown",
   "id": "9ffcdf3a-317f-436a-b7c0-2c9cda11da25",
   "metadata": {},
   "source": [
    "$K_p$ is the gain of the P-controller:\n",
    "* If $K_p \\rightarrow \\infty$, then the controller tends towards perfection, i.e., the indoor temperature tends towards its set-point.\n",
    "* If $K_p \\rightarrow  0$, then the controller is uneffective, i.e., the indoor temperature is in free-floating.\n",
    "\n",
    "The thermal conductances and capacities are:"
   ]
  },
  {
   "cell_type": "raw",
   "id": "725add87-50ea-4d25-b323-703b27b8f0b6",
   "metadata": {},
   "source": [
    "    # Thermal conductances\n",
    "    # Conduction\n",
    "    G_cd = wall['Conductivity'] / wall['Width'] * wall['Surface']\n",
    "\n",
    "    # Convection\n",
    "    Gw = h * wall['Surface'][0]     # wall\n",
    "    Gg = h * wall['Surface'][2]     # glass\n",
    "\n",
    "    # Long-wave radiation exchnage\n",
    "    GLW1 = ε_wLW / (1 - ε_wLW) * wall['Surface']['Insulation'] * 4 * σ * Tm**3\n",
    "    GLW2 = Fwg * wall['Surface']['Insulation'] * 4 * σ * Tm**3\n",
    "    GLW3 = ε_gLW / (1 - ε_gLW) * wall['Surface']['Glass'] * 4 * σ * Tm**3\n",
    "    # long-wave exg. wall-glass\n",
    "    GLW = 1 / (1 / GLW1 + 1 / GLW2 + 1 / GLW3)\n",
    "\n",
    "    # ventilation & advection\n",
    "    Gv = Va_dot * air['Density'] * air['Specific heat']\n",
    "\n",
    "    # glass: convection outdoor & conduction\n",
    "    Ggs = float(1 / (1 / Gg['out'] + 1 / (2 * G_cd['Glass'])))\n",
    "\n",
    "    # Thermal capacities\n",
    "    Capacity = wall['Density'] * wall['Specific heat'] *\\\n",
    "        wall['Surface'] * wall['Width']\n",
    "    Capacity['Air'] = air['Density'] * air['Specific heat'] * Va"
   ]
  },
  {
   "cell_type": "markdown",
   "id": "2208ab78-390d-48d4-a2b8-ead033ee3532",
   "metadata": {
    "tags": []
   },
   "source": [
    "The elemntary thermal circuits are described by the matrices and vectors $A, G, b, C, f, y$.\n",
    "\n",
    "The thermal circuit $TC_0$ (in red in figure) is formed convection on outside of the wall and conduction in meshes of concrete and insulation. The numbers of flow branches `nq` and of temperature nodes `nt`are:"
   ]
  },
  {
   "cell_type": "raw",
   "id": "4037b18f-9ec0-467f-86f6-0bab92dd626c",
   "metadata": {},
   "source": [
    "    # TCd0:  Concrete and insulation wall  (in red)\n",
    "    nq = 1 + 2 * (wall['Meshes']['Concrete'] + wall['Meshes']['Insulation'])\n",
    "    nt = 1 + 2 * (wall['Meshes']['Concrete'] + wall['Meshes']['Insulation'])"
   ]
  },
  {
   "cell_type": "markdown",
   "id": "3dc5a013-1fe4-41d8-8f58-d91a664eb666",
   "metadata": {
    "tags": []
   },
   "source": [
    "The incidence matrix $A$ is a difference operator for temperatures:"
   ]
  },
  {
   "cell_type": "raw",
   "id": "04182ef7-5737-4e46-82d9-574936309907",
   "metadata": {},
   "source": [
    "    A = np.eye(nq + 1, nt)\n",
    "    A = -np.diff(A, 1, 0).T"
   ]
  },
  {
   "cell_type": "markdown",
   "id": "2b95f9e8-26d7-41dc-9d1e-4c5b7a2046f9",
   "metadata": {
    "tags": []
   },
   "source": [
    "The conductance matrix $G$ contains `nc` concrete meshes and `ni` insulation meshes. The conductances of the outdoor convection, conduction in cocrete and conduction in insulation are stacked horizontally. Then, $G$ is obtained as a diagonal matrix."
   ]
  },
  {
   "cell_type": "raw",
   "id": "6727b910-cb19-45bc-90c5-b626d8d4fa87",
   "metadata": {},
   "source": [
    "    nc = wall['Meshes']['Concrete']\n",
    "    ni = wall['Meshes']['Insulation']\n",
    "    Gcm = 2 * nc * [G_cd['Concrete']]\n",
    "    Gcm = 2 * nc * np.array(Gcm)\n",
    "    Gim = 2 * ni * [G_cd['Insulation']]\n",
    "    Gim = 2 * ni * np.array(Gim)\n",
    "    G = np.diag(np.hstack([Gw['out'], Gcm, Gim]))"
   ]
  },
  {
   "cell_type": "markdown",
   "id": "5a183103-a336-40b5-bec5-4eb8120043b2",
   "metadata": {},
   "source": [
    "There is only one branch with a temperature source: branch `b[0]`."
   ]
  },
  {
   "cell_type": "raw",
   "id": "4fe54e8c-3930-4603-a13a-6b18b921d60e",
   "metadata": {},
   "source": [
    "    b = np.zeros(nq)\n",
    "    b[0] = 1"
   ]
  },
  {
   "cell_type": "markdown",
   "id": "e4bfa412-50ad-4ced-a10d-76a60e58011c",
   "metadata": {},
   "source": [
    "The capacity matrix is:"
   ]
  },
  {
   "cell_type": "raw",
   "id": "1031fa63-f6a9-46a5-90e8-c342b04ef994",
   "metadata": {},
   "source": [
    "    Ccm = Capacity['Concrete'] / nc * np.mod(range(0, 2 * nc), 2)\n",
    "    Cim = Capacity['Insulation'] / ni * np.mod(range(0, 2 * ni), 2)\n",
    "    C = np.diag(np.hstack([Ccm, Cim, 0]))"
   ]
  },
  {
   "cell_type": "markdown",
   "id": "044bfad4-da5a-4817-a754-7ed0a976f343",
   "metadata": {},
   "source": [
    "There are two nodes with heat flow sources, the first and the last node: `f[0]`, `f[-1]`."
   ]
  },
  {
   "cell_type": "raw",
   "id": "92b21c3d-0a7c-4ac4-b972-b7d65d285f26",
   "metadata": {},
   "source": [
    "    f = np.zeros(nt)\n",
    "    f[0] = f[-1] = 1"
   ]
  },
  {
   "cell_type": "markdown",
   "id": "88bae330-e0f5-4847-9eff-54bb156a08d4",
   "metadata": {},
   "source": [
    "There is not temperature from circuit $TC_{d0}$ in the output vector:"
   ]
  },
  {
   "cell_type": "raw",
   "id": "a5b20788-1874-4a48-9300-660baa03c348",
   "metadata": {},
   "source": [
    "    y = np.zeros(nt)"
   ]
  },
  {
   "cell_type": "markdown",
   "id": "b35d1e5a-9bab-4b1d-b0bb-78e7c15a3b45",
   "metadata": {},
   "source": [
    "The circuit $TC_{d0}$ is a dictionary having the matrices and vectors $A, G, b, C, f, y$:"
   ]
  },
  {
   "cell_type": "raw",
   "id": "f3954285-44c9-42cf-9eb1-16b3f5bdd758",
   "metadata": {},
   "source": [
    "    TCd0 = {'A': A, 'G': G, 'b': b, 'C': C, 'f': f, 'y': y}"
   ]
  },
  {
   "cell_type": "markdown",
   "id": "36b396cb-5b6d-4ef1-b759-10233ef652a9",
   "metadata": {
    "tags": []
   },
   "source": [
    "The thermal circuits $TC_{d1}, TC_{d2}$ and $TC_{d3}$ are constructed similarly:"
   ]
  },
  {
   "cell_type": "raw",
   "id": "80dc8ad1-402f-4739-adea-5c847caa10e2",
   "metadata": {},
   "source": [
    "    # TCd1: Indoor air (in blue)\n",
    "    A = np.array([[-1, 1, 0],\n",
    "                  [-1, 0, 1],\n",
    "                  [0, -1, 1]])\n",
    "    G = np.diag(np.hstack([GLW, Gw['in'], h['in'] * wall['Surface']['Glass']]))\n",
    "    b = np.zeros(3)\n",
    "    C = np.diag([0, 0, Capacity['Air'] / 2])\n",
    "    f = np.array([1, 0, 1])\n",
    "    y = np.array([0, 0, 1])\n",
    "    TCd1 = {'A': A, 'G': G, 'b': b, 'C': C, 'f': f, 'y': y}\n",
    "\n",
    "    # TCd2: Glass (in green)\n",
    "    A = np.array([[1, 0],\n",
    "                  [-1, 1]])\n",
    "    Ggo = h['out'] * wall['Surface']['Glass']\n",
    "    Ggs = 1 / (1 / Ggo + 1 / (2 * G_cd['Glass']))\n",
    "    G = np.diag(np.hstack([Ggs, 2 * G_cd['Glass']]))\n",
    "    b = np.array([1, 0])\n",
    "    C = np.diag([Capacity['Glass'], 0])\n",
    "    f = np.array([1, 0])\n",
    "    y = np.array([0, 0])\n",
    "    TCd2 = {'A': A, 'G': G, 'b': b, 'C': C, 'f': f, 'y': y}\n",
    "\n",
    "    # TCd3: air infiltration and controller (in purple)\n",
    "    A = np.array([[1],\n",
    "                  [1]])\n",
    "    G = np.diag(np.hstack([Gv, Kp]))\n",
    "    b = np.array([1, 1])\n",
    "    C = np.array([Capacity['Air'] / 2])\n",
    "    f = 1\n",
    "    y = 1\n",
    "    TCd3 = {'A': A, 'G': G, 'b': b, 'C': C, 'f': f, 'y': y}"
   ]
  },
  {
   "cell_type": "markdown",
   "id": "202404fa-56a9-4db8-b07a-1d9521b842d6",
   "metadata": {},
   "source": [
    "The *elementary* dissembled circuits, $TC_{d1}, ... TC_{d3}$ are put together in a dictionary. Note that the *elementary* circits may be used more than once in the dictionary."
   ]
  },
  {
   "cell_type": "raw",
   "id": "ba8e4d54-9f0a-4aa0-ad16-dd2f32226ac1",
   "metadata": {},
   "source": [
    "    TCd = {'0': TCd0,\n",
    "           '1': TCd1,\n",
    "           '2': TCd2,\n",
    "           '3': TCd3}"
   ]
  },
  {
   "cell_type": "markdown",
   "id": "119efb7b-9489-4f7e-8ef0-34f2412ba9ca",
   "metadata": {
    "tags": []
   },
   "source": [
    "The assembly matrix `AssX` indicates how the circuits are connected. For example, the 1st row of matrix `AssX` idicates that the last node (`nt - 1`) of circuit $TC_{d0}$ is merged with the 1st node of circuit $TC_{d1}$; the 1st node (i.e., node no. 0) of circuit $TC_{d1}$ is deleted."
   ]
  },
  {
   "cell_type": "raw",
   "id": "ad5805a6-6d0e-4ea4-b467-5e3fb4730a09",
   "metadata": {},
   "source": [
    "    AssX = np.array([[0, nt - 1, 1, 0],\n",
    "                     [1, 1, 2, 1],\n",
    "                     [1, 2, 3, 0]])"
   ]
  },
  {
   "cell_type": "markdown",
   "id": "53d4e6f2-a93d-44fc-be14-b5193d738dc8",
   "metadata": {},
   "source": [
    "Finall, the dissambles thermal circuit `TCd`is assabled according to the conexions indicated by the assembly matrix `AssX` by using the functionn `dm4bem.TCAss`. The result is an assambled thermal circuit with matrices and vectors $A, G, b, C, f, y$."
   ]
  },
  {
   "cell_type": "raw",
   "id": "94d2bed5-1eb5-4fa6-b254-645c620dbd42",
   "metadata": {},
   "source": [
    "    TCa = dm4bem.TCAss(TCd, AssX)\n",
    "    return TCa"
   ]
  },
  {
   "cell_type": "markdown",
   "id": "d17b4e46-b1d3-4124-ab6f-ab215c2e89d3",
   "metadata": {
    "tags": []
   },
   "source": [
    "## Simulation\n",
    "\n",
    "### Free-floating\n",
    "\n",
    "Let's consider that the P-controller is not effective, i.e. $K_p \\rightarrow 0$."
   ]
  },
  {
   "cell_type": "code",
   "execution_count": 2,
   "id": "6cf40e92-4dd9-4090-86a8-4bd53549d7de",
   "metadata": {},
   "outputs": [],
   "source": [
    "Kp = 1e-3   # no controller Kp -> 0"
   ]
  },
  {
   "cell_type": "markdown",
   "id": "d1d01f3b-f42b-4c30-99ef-fa9373072cb0",
   "metadata": {},
   "source": [
    "The assambled thermal circuit `TCa`is obtained as shown above:"
   ]
  },
  {
   "cell_type": "code",
   "execution_count": 3,
   "id": "ce017693-8e9c-4e2e-807d-b03cb23c9f47",
   "metadata": {},
   "outputs": [],
   "source": [
    "TCa = tuto.thermal_circuit(Kp)"
   ]
  },
  {
   "cell_type": "markdown",
   "id": "f9236a96-fe80-4024-a128-97278218e120",
   "metadata": {},
   "source": [
    "The thermal circuit `TCa` is converted to state-space representation: "
   ]
  },
  {
   "cell_type": "code",
   "execution_count": 4,
   "id": "c550487a-febc-4a3d-ad6d-1ce7e6365a5e",
   "metadata": {},
   "outputs": [],
   "source": [
    "# Thermal circuit -> state-space\n",
    "[As, Bs, Cs, Ds] = dm4bem.tc2ss(\n",
    "    TCa['A'], TCa['G'], TCa['b'], TCa['C'], TCa['f'], TCa['y'])"
   ]
  },
  {
   "cell_type": "code",
   "execution_count": 5,
   "id": "115b6c00-6e4b-4a8d-b9c5-ed7eb5c66e1f",
   "metadata": {},
   "outputs": [
    {
     "name": "stdout",
     "output_type": "stream",
     "text": [
      "Maximum time step: 479.08 s\n"
     ]
    }
   ],
   "source": [
    "# Maximum time-step\n",
    "dtmax = min(-2. / np.linalg.eig(As)[0])\n",
    "print(f'Maximum time step: {dtmax:.2f} s')"
   ]
  },
  {
   "cell_type": "markdown",
   "id": "fba8d434-6aae-471b-b9c5-92cc39be1597",
   "metadata": {},
   "source": [
    "We will chose a time step for integration slighly smaller than the maximum time step:"
   ]
  },
  {
   "cell_type": "code",
   "execution_count": 6,
   "id": "417165e6-86ca-48d4-833d-cce4f84952c3",
   "metadata": {},
   "outputs": [],
   "source": [
    "dt = 400  # [s] simulation time step"
   ]
  },
  {
   "cell_type": "markdown",
   "id": "b7f3d730-89c0-4692-9bd6-1ca9e0505415",
   "metadata": {},
   "source": [
    "#### Step response"
   ]
  },
  {
   "cell_type": "code",
   "execution_count": 7,
   "id": "94d0ba49-4529-4135-95f2-d53e47b42672",
   "metadata": {},
   "outputs": [
    {
     "data": {
      "image/png": "[encoded data removed]",
      "text/plain": [
       "<Figure size 432x288 with 1 Axes>"
      ]
     },
     "metadata": {
      "needs_background": "light"
     },
     "output_type": "display_data"
    }
   ],
   "source": [
    "duration = 3600 * 24 * 1        # [s]\n",
    "tuto.step_response(duration, dt, As, Bs, Cs, Ds)"
   ]
  },
  {
   "cell_type": "markdown",
   "id": "e2d29daa-7623-4fb0-b5c9-06672ca079f5",
   "metadata": {},
   "source": [
    "#### Simulation with weather data"
   ]
  },
  {
   "cell_type": "code",
   "execution_count": null,
   "id": "ef1781cc-e9dc-45e3-a7da-b7f53b780cba",
   "metadata": {},
   "outputs": [],
   "source": [
    "filename = 'FRA_Lyon.074810_IWEC.epw'\n",
    "start_date = '2000-01-03 12:00:00'\n",
    "end_date = '2000-03-04 18:00:00'\n",
    "tuto.P_control(filename, start_date, end_date, dt,\n",
    "               As, Bs, Cs, Ds, Kp)"
   ]
  },
  {
   "cell_type": "markdown",
   "id": "d6b32fe3-2da5-4c8d-a802-a4e2a45b79c5",
   "metadata": {},
   "source": [
    "### Perfect controller\n",
    "\n",
    "Let's consider that controller is perfect, i.e. $K_p \\rightarrow \\infty$."
   ]
  },
  {
   "cell_type": "code",
   "execution_count": null,
   "id": "81a4a073-d7e9-47a7-960c-25153b1f9e93",
   "metadata": {},
   "outputs": [],
   "source": [
    "Kp = 1e3    # P-controler gain, Kp -> ∞"
   ]
  },
  {
   "cell_type": "markdown",
   "id": "9c338b2b-ed71-45cc-87d9-de856f1297f8",
   "metadata": {},
   "source": [
    "The maximum timestep in this case is:"
   ]
  },
  {
   "cell_type": "code",
   "execution_count": null,
   "id": "f0cc971a-5168-4ed8-860f-9a9b635cdc64",
   "metadata": {},
   "outputs": [],
   "source": [
    "TCa = tuto.thermal_circuit(Kp)\n",
    "[As, Bs, Cs, Ds] = dm4bem.tc2ss(\n",
    "    TCa['A'], TCa['G'], TCa['b'], TCa['C'], TCa['f'], TCa['y'])\n",
    "dtmax = min(-2. / np.linalg.eig(As)[0])\n",
    "print(f'Maximum time step: {dtmax:.2f} s')"
   ]
  },
  {
   "cell_type": "markdown",
   "id": "7db03160-5485-4aa3-a777-314bf3ae568a",
   "metadata": {},
   "source": [
    "#### Simulation with weather data"
   ]
  },
  {
   "cell_type": "code",
   "execution_count": null,
   "id": "b97029cd-a314-469a-a920-1ca12d0fa534",
   "metadata": {},
   "outputs": [],
   "source": [
    "dt = 50\n",
    "tuto.P_control(filename, start_date, end_date, dt,\n",
    "               As, Bs, Cs, Ds, Kp)"
   ]
  },
  {
   "cell_type": "code",
   "execution_count": null,
   "id": "80ed6868-c51b-42b3-810d-eaddeb553c11",
   "metadata": {},
   "outputs": [],
   "source": []
  }
 ],
 "metadata": {
  "kernelspec": {
   "display_name": "Python 3",
   "language": "python",
   "name": "python3"
  },
  "language_info": {
   "codemirror_mode": {
    "name": "ipython",
    "version": 3
   },
   "file_extension": ".py",
   "mimetype": "text/x-python",
   "name": "python",
   "nbconvert_exporter": "python",
   "pygments_lexer": "ipython3",
   "version": "3.8.8"
  }
 },
 "nbformat": 4,
 "nbformat_minor": 5
}
