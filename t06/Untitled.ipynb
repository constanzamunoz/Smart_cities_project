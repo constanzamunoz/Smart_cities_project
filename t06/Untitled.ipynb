{
 "cells": [
  {
   "cell_type": "markdown",
   "id": "76f24a91-2876-4bd4-a1b3-c304bf84f651",
   "metadata": {},
   "source": [
    "<div class=\"alert alert-info\">Note<p>If the time information was only present as a date or datetime column, we\n",
    "   could have expanded it into hour-in-the-day, day-in-the-week,"
   ]
  },
  {
   "cell_type": "markdown",
   "id": "3e311283-c897-4591-bf81-6573a0497fe5",
   "metadata": {},
   "source": [
    "<div class=\"alert alert-primary\" role=\"alert\">\n",
    "  This is a primary alert—check it out!\n",
    "</div>"
   ]
  },
  {
   "cell_type": "code",
   "execution_count": null,
   "id": "c386608e-9831-4c74-a92a-d4adb420fc5a",
   "metadata": {},
   "outputs": [],
   "source": []
  }
 ],
 "metadata": {
  "kernelspec": {
   "display_name": "Python 3",
   "language": "python",
   "name": "python3"
  },
  "language_info": {
   "codemirror_mode": {
    "name": "ipython",
    "version": 3
   },
   "file_extension": ".py",
   "mimetype": "text/x-python",
   "name": "python",
   "nbconvert_exporter": "python",
   "pygments_lexer": "ipython3",
   "version": "3.8.8"
  }
 },
 "nbformat": 4,
 "nbformat_minor": 5
}
