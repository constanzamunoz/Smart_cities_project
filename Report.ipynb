{
 "cells": [
  {
   "cell_type": "markdown",
   "id": "f9b4760c-4478-4484-956f-b58fcafda610",
   "metadata": {},
   "source": [
    "### Grenoble INP - École Nationale Supérieur de l’Énergie, l’Eau et l’Environnement\n",
    "![GrenobleINP Logo](https://upload.wikimedia.org/wikipedia/fr/c/c6/Grenoble_INP_-_Ense3_%28logo%29.svg)\n",
    "# Smart Energy Building Simulation Report\n",
    "##### SMART CITIES (4EUS4HAT)\n",
    "#### Professor: Christian GHIAUS & Majid BASEER\n",
    "\n",
    "2A - SEM & M1-SGB Authors:\n",
    "* Constanza MUÑOZ FILIPPIG\n",
    "* Francisco J. CUESTA ELIAS\n",
    "* Luca DORI\n",
    "* Albert GRANOLLERS COLOM\n"
   ]
  },
  {
   "cell_type": "markdown",
   "id": "0b2054fc-ba0e-4fa1-9cc3-1b1ebf5ee93a",
   "metadata": {},
   "source": [
    "##### TABLE OF CONTENTS\n",
    "\n",
    "1. [INTRODUCTION](#INTRODUCTION)\n",
    "2. [BUILDING PLAN](#BUILDING-PLAN)\n",
    "3. [HYPOTHESES](#HYPOTHESES)\n",
    "4. [THERMAL MODEL](#THERMAL-MODEL)\n",
    "5. [MATHEMATICAL MODEL](#MATHEMATICAL-MODEL)\n",
    "6. [MODEL IMPLEMENTATION](#MODEL-IMPLEMENTATION)\n",
    "7. [STEADY-STATE RESULTS](#STEADY-STATE-RESULTS)\n",
    "8. [DYNAMIC SIMULATION](#DYNAMIC-SIMULATION)\n",
    "9. [OPTIMIZATION](#OPTIMIZATION)\n",
    "10. [CONCLUSION](#CONCLUSION)"
   ]
  },
  {
   "cell_type": "markdown",
   "id": "25509213-8614-43f0-bd50-ace87ce46e94",
   "metadata": {},
   "source": [
    "##### INTRODUCTION\n",
    "Buildings account for almost 40% of total energy consumption, hence their contribution to greenhouse gasses emission is not negligible. For these reasons an appropriate way of modeling and control strategies should be applied in order to develop more efficient buildings that allow to reduce both consumption and emissions.\n",
    "\n",
    "The simulation that is carried out in this project is devoted to define a virtual model of a house, accounting as much details as possible, in order to create an accurate approximation of real life behavior. Energy and mass flows between different spaces are considered to correctly assess the energy consumptions required to heat up and cool down the house.\n",
    "\n",
    "The required inputs for this simulation are:\n",
    "* Weather conditions of the site in analysis (Grenoble 38000, France)\n",
    "* Building geometry\n",
    "* Building envelope characteristics"
   ]
  },
  {
   "cell_type": "code",
   "execution_count": 3,
   "id": "9aff32de",
   "metadata": {},
   "outputs": [],
   "source": [
    "import numpy as np\n",
    "import pandas as pd\n",
    "import matplotlib.pyplot as plt\n",
    "import dm4bem"
   ]
  },
  {
   "cell_type": "markdown",
   "id": "952703bb-4f0f-4fa4-96c9-a26c949cc55f",
   "metadata": {},
   "source": [
    "##### BUILDING PLAN\n",
    "The place considered for analysis is a flat of almost 25m2 facing south located at the third floor of a residence in Grenoble. The studio has 4 general walls, a separated bathroom, a main door and a window with the previous orientation mentioned. The materials of each wall is concrete covered with an insulation layer, the bathroom door is made of wood and the main door is made of iron whilst the window is double layered. Inside there’s electrical equipment that apport heat such as the computer, microwave, induction stove, fridge, and heater. The place will be occupied by one person who does home-office; hence, the importance of the analysis since each day a strong heat production will be generated inside the room. The studio will require a set point for temperature control and regulation; therefore, the objective is to determine the characteristics of this equipment to work at the optimal level.\n",
    "![Drawingstudio](studio_drawing.PNG)\n"
   ]
  },
  {
   "cell_type": "markdown",
   "id": "54cc4ca4",
   "metadata": {},
   "source": [
    "The dimension and surface areas for our problem are defined as follows:"
   ]
  },
  {
   "cell_type": "code",
   "execution_count": null,
   "id": "75a77e53",
   "metadata": {},
   "outputs": [],
   "source": [
    "l = 3               # m hight of the room\n",
    "Sg = 0.9*l           # m² surface of the glass wall\n",
    "Swo = 0.8*l             # m² surface of wood door\n",
    "\n",
    "Va = l*((5.25-2)*(2.6))      # m³ volume of air\n",
    "ACH = 2             # air changes per hour\n",
    "Va_dot = ACH * Va / 3600    # m³/s air infiltration\n",
    "\n",
    "air = {'Density': 1.2,                      # kg/m³\n",
    "       'Specific heat': 1000}               # J/kg.K"
   ]
  },
  {
   "cell_type": "markdown",
   "id": "5b825e8a",
   "metadata": {},
   "source": [
    "The thermophysical properties of the materials and surface areas of the materials of the walls on the designed room:"
   ]
  },
  {
   "cell_type": "code",
   "execution_count": null,
   "id": "4d1b5638",
   "metadata": {},
   "outputs": [],
   "source": [
    "wall = {'Conductivity': [1.4,1.4,1.4,1.4, 0.027,0.027,0.027, 1.4, 1.7,1.7, 0.8],  # W/m.K\n",
    "        'Density': [2300,2300,2300,2300, 55,55,55, 2500, 2500,2500, 250],        # kg/m³\n",
    "        'Specific heat': [880,880,880,880, 1210,1210,1210, 750, 0,0, 1760],  # J/kg.K\n",
    "        'Width': [0.15-0.0005,0.15-0.0005,0.15,0.15,\n",
    "                  0.05,0.05,0.05,\n",
    "                  0.004,\n",
    "                  0.0005,0.0005,\n",
    "                  0.08],\n",
    "        'Surface': [2.6*l, 2*l, 4.66*l, (5.25-2-0.8)*l,\n",
    "                    2*l, 4.66*l, (5.25-2-0.8)*l,\n",
    "                    Sg,\n",
    "                    2.6*l, 2*l,\n",
    "                    Swo],  # m²\n",
    "        'Slices': [1,1,1,1, 1,1,1, 1, 1,1, 1]}            # number of discretizations\n",
    "wall = pd.DataFrame(wall, index=['Concrete_B1','Concrete_B3','Concrete_B5','Concrete_B6',\n",
    "                                 'Insulation_B3','Insulation_B5','Insulation_B6',\n",
    "                                 'Glass',\n",
    "                                 'Ceramic_B1','Ceramic_B3',\n",
    "                                 'Wood'])\n",
    "wall"
   ]
  },
  {
   "cell_type": "markdown",
   "id": "0fae6b97-b3ba-4c60-937e-d23f17a51fc1",
   "metadata": {},
   "source": [
    "##### HYPOTHESES\n",
    "The following considerations were taken into account for the design, model, and implementation:\n",
    "* The effect of surrounding buildings is neglected when considering the solar radiation effect.\n",
    "* The wall besides the bathroom door is not considered in the analysis\n",
    "* The insulator section of the wall includes a hard wall finishing for construction purposes.\n",
    "* The only set point is considered in the main room.\n",
    "* The two walls in contact with other rooms of the building don't have an influence on the model (North and East walls) because the difference of temperature between the rooms is considered 0."
   ]
  },
  {
   "cell_type": "markdown",
   "id": "ec07a53a-26a5-4a6a-91de-6b1f509b5e61",
   "metadata": {},
   "source": [
    "##### THERMAL MODEL\n",
    "For the thermal analysis the following design is proposed.\n",
    "![Thermalmodel](diagram.PNG)\n",
    "\n",
    "This design accounts the walls in contact with the exterior (South and East), the window at the south wall, \n",
    "the wall between the bathroom and the main room, the wall between the bathroom and the exterior; and finally the wood door to access the bathroom.\n"
   ]
  },
  {
   "cell_type": "markdown",
   "id": "06206a32",
   "metadata": {},
   "source": [
    "The radiative characteristics and factors are taken as following:"
   ]
  },
  {
   "cell_type": "code",
   "execution_count": null,
   "id": "e7e4a78e",
   "metadata": {},
   "outputs": [],
   "source": [
    "α_wSW = 0.2     # absortivity white surface\n",
    "\n",
    "σ = 5.67e-8     # W/m².K⁴ Stefan-Bolzmann constant"
   ]
  },
  {
   "cell_type": "markdown",
   "id": "3219aa17",
   "metadata": {},
   "source": [
    "Thermal conductances of our model are presented:"
   ]
  },
  {
   "cell_type": "code",
   "execution_count": null,
   "id": "8d4d1f2a",
   "metadata": {},
   "outputs": [],
   "source": [
    "# Conduction\n",
    "G_cd = wall['Conductivity'] / wall['Width'] * wall['Surface']\n",
    "\n",
    "Gw_B1 = h * wall['Surface'][0]     # wall branch 1\n",
    "Gw_B3 = h * wall['Surface'][1]     # wall branch 3\n",
    "Gw_B5 = h * wall['Surface'][2]     # wall branch 5\n",
    "Gw_B6 = h * wall['Surface'][3]     # wall branch 6\n",
    "Gg = h * wall['Surface'][7]     # glass branch 7\n",
    "Gwood = h * wall['Surface'][10]     # wood branch 2\n",
    "\n",
    "# ventilation & advection\n",
    "Gv = Va_dot * air['Density'] * air['Specific heat']\n",
    "\n",
    "# glass: convection outdoor & conduction\n",
    "Ggs = float(1 / (1 / Gg['out'] + 1 / (2 * G_cd['Glass'])))"
   ]
  },
  {
   "cell_type": "markdown",
   "id": "ebd11b60",
   "metadata": {},
   "source": [
    "Thermal capacities of our model are presented:"
   ]
  },
  {
   "cell_type": "code",
   "execution_count": null,
   "id": "cb3e09f3",
   "metadata": {},
   "outputs": [],
   "source": [
    "C = wall['Density'] * wall['Specific heat'] * wall['Surface'] * wall['Width']\n",
    "C['Air'] = air['Density'] * air['Specific heat'] * Va"
   ]
  },
  {
   "cell_type": "markdown",
   "id": "52a149e1-fea3-4a88-ab09-281aa3569cdc",
   "metadata": {},
   "source": [
    "##### MATHEMATICAL MODEL\n",
    "\n",
    "The thermal circuit matrices generated for the model are presented: "
   ]
  },
  {
   "cell_type": "markdown",
   "id": "0d7acda5",
   "metadata": {},
   "source": [
    "Matrix \"A\" is:\n",
    "\n",
    "This matrix has x lines in accordance to the number of flows and columns are related to the number of temperature nodes.\n",
    "The coefficients are either -1 or 1 depending on the direction of the flow, either exiting or entering respectively.\n"
   ]
  },
  {
   "cell_type": "code",
   "execution_count": 4,
   "id": "f221476f",
   "metadata": {},
   "outputs": [],
   "source": [
    "A = np.zeros([25, 19])\n",
    "\n",
    "#Branch 1:\n",
    "\n",
    "# flux 0\n",
    "A[0, 0], A[0, 1] = -1,1\n",
    "# flux 1 \n",
    "A[1, 1], A[1, 2] = -1,1\n",
    "#flux 2\n",
    "A[2, 2], A[2, 3] = -1,1\n",
    "#flux 3\n",
    "A[3, 3], A[3, 4] = -1,1\n",
    "#flux4\n",
    "A[4, 4], A[4, 10] = -1,1\n",
    "\n",
    "\n",
    "#Branch 2:\n",
    "\n",
    "#flux 5\n",
    "A[5, 0], A[5, 10] = -1,1\n",
    "\n",
    "#Branch 3:\n",
    "\n",
    "# flux 6 \n",
    "A[6, 5], A[6, 0] = -1,1\n",
    "# flux 7\n",
    "A[7, 6], A[7, 5] = -1,1\n",
    "#flux 8\n",
    "A[8, 7], A[8, 6] = -1,1\n",
    "#flux 9\n",
    "A[9, 8], A[9, 7] = -1,1\n",
    "#flux 10\n",
    "A[10, 9], A[10, 8] = -1,1\n",
    "#flux 11\n",
    "A[11, 9] = 1\n",
    "\n",
    "#Branch 4:\n",
    "\n",
    "#flux 12\n",
    "A[12, 10]  = 1\n",
    "\n",
    "\n",
    "#Branch 5:\n",
    "\n",
    "#flux 13\n",
    "A[13, 10],A[13, 11]  = 1,-1\n",
    "#flux 14\n",
    "A[14, 12], A[14, 11] = -1,1\n",
    "#flux 15\n",
    "A[15, 13], A[15, 12] = -1,1\n",
    "#flux 16\n",
    "A[16, 14], A[16, 13] = -1,1\n",
    "#flux 17\n",
    "A[17, 14] =  1\n",
    "\n",
    "#Branch 6:\n",
    "\n",
    "#flux 18\n",
    "A[18, 10],A[18, 15] = 1,-1\n",
    "#flux 19\n",
    "A[19, 16], A[19, 15] = -1,1\n",
    "#flux 20\n",
    "A[20, 17], A[20, 16] = -1,1\n",
    "#flux 21\n",
    "A[21, 18], A[21, 17] = -1,1\n",
    "#flux 22\n",
    "A[22, 18] = 1\n",
    "\n",
    "#Branch 7:\n",
    "\n",
    "#flux 23\n",
    "A[23, 10] = 1\n",
    "\n",
    "#Branch 8:\n",
    "\n",
    "#flux 24\n",
    "A[24, 10] = 1"
   ]
  },
  {
   "cell_type": "markdown",
   "id": "52c43a68",
   "metadata": {},
   "source": [
    "Matrix \"b\" is:\n",
    "\n",
    "This vector depicts the temperature sources. The number of rows depend on the number of known temperature sources. For this case 5 exterior temperature sources and the interior temperature we want to control in with the temperature source in flow branch 12.\n"
   ]
  },
  {
   "cell_type": "code",
   "execution_count": null,
   "id": "e3afa771",
   "metadata": {},
   "outputs": [],
   "source": [
    "b = np.zeros(25)\n",
    "b[[11,17,22,23,24]] = 15\n",
    "b[[12]] = 20"
   ]
  },
  {
   "cell_type": "markdown",
   "id": "527b4b8a",
   "metadata": {},
   "source": [
    "Matrix \"C\" is:\n",
    "\n",
    "The matrix C represents the capacitance of the materials and their ability to store heat.\n",
    "Its diagonal size is related to the capacitance located at specific nodes."
   ]
  },
  {
   "cell_type": "code",
   "execution_count": null,
   "id": "6b48cc9f",
   "metadata": {},
   "outputs": [],
   "source": [
    "C_f = np.diag([0,#0                             // BRANCH 1\n",
    "               0,#1\n",
    "               C['Ceramic_B1'],#2\n",
    "               C['Concrete_B1'],#3\n",
    "               0,#4\n",
    "               0,#5                            // BRANCH 2\n",
    "               C['Ceramic_B3'],#6                 // BRANCH 3\n",
    "               C['Insulation_B3'],#7\n",
    "               C['Concrete_B3'],#8\n",
    "               0,#9\n",
    "               C['Air'],#10                    // BRANCH 4\n",
    "               0,#11                           // BRANCH 5\n",
    "               C['Insulation_B5'],#12\n",
    "               C['Concrete_B5'],#13\n",
    "               0,#14\n",
    "               0,#15                          // BRANCH 6\n",
    "               C['Insulation_B6'],#16\n",
    "               C['Concrete_B6'],#17\n",
    "               0])#18"
   ]
  },
  {
   "cell_type": "markdown",
   "id": "a3ad4c7f",
   "metadata": {},
   "source": [
    "Matrix \"G\" is:\n",
    "\n",
    "This matrix shows the conductances depeding on the heat transfer method, either conduction or convection.\n",
    "Its diagonal size is related to the number of flow branches. "
   ]
  },
  {
   "cell_type": "code",
   "execution_count": null,
   "id": "e8a6f299",
   "metadata": {},
   "outputs": [],
   "source": [
    "G = np.diag([Gw_B1.iloc[0]['in'],#0 Convection external // BRANCH 1\n",
    "             2 * G_cd['Ceramic_B1'],#1 conduction ceramic\n",
    "             1/(1/(2*G_cd['Ceramic_B1']) + 1/(2*G_cd['Concrete_B1'])),#2 conduction ceramic + conduction concrete\n",
    "             2 * G_cd['Concrete_B1'],#3 conduction concrete\n",
    "             Gw_B1.iloc[0]['in'],#4 conduction internal\n",
    "             1/(1/Gwood.iloc[0]['in'] + 1/G_cd['Wood']+ 1/Gwood.iloc[0]['in']),#5 convection internal + conduction wood + convection internal  // BRANCH 2\n",
    "             Gw_B3.iloc[0]['in'],#6 convention internal // BRANCH 3\n",
    "             2 * G_cd['Ceramic_B3'],#7 conduction ceramic\n",
    "             1/(1/(2*G_cd['Ceramic_B3']) + 1/(2*G_cd['Insulation_B3'])),#8 conduction ceramic + conduction insulation\n",
    "             1/(1/(2*G_cd['Insulation_B3']) + 1/(2*G_cd['Concrete_B3'])),#9 conduction insulation + conduction concrete\n",
    "             2 * G_cd['Concrete_B3'],#10\n",
    "             Gw_B3.iloc[0]['out'],#11\n",
    "             Kp,#12                                    // BRANCH 4\n",
    "             Gw_B5.iloc[0]['in'],#13                      // BRANCH 5\n",
    "             2 * G_cd['Insulation_B5'],#14\n",
    "             1/(1/(2*G_cd['Insulation_B5']) + 1/(2*G_cd['Concrete_B5'])),#15 conduction insulation + conduction concrete\n",
    "             2*G_cd['Concrete_B5'],#16\n",
    "             Gw_B5.iloc[0]['out'],#17\n",
    "             Gw_B6.iloc[0]['in'],#18                        // BRANCH 6\n",
    "             2 * G_cd['Insulation_B6'],#19\n",
    "             1/(1/(2*G_cd['Insulation_B6']) + 1/(2*G_cd['Concrete_B6'])),#20 conduction insulation + conduction concrete\n",
    "             2*G_cd['Concrete_B6'],#21\n",
    "             Gw_B6.iloc[0]['out'],#22\n",
    "             1/(1/Gg.iloc[0]['in']+ 1/G_cd['Glass']+ 1/Gg.iloc[0]['out']),#23   // BRANCH 7\n",
    "             Gv #24                                                             // BRANCH 8\n",
    "            ])\n",
    "np.set_printoptions(precision=3, threshold=16, suppress=True)"
   ]
  },
  {
   "cell_type": "markdown",
   "id": "a0b139df",
   "metadata": {},
   "source": [
    "Matrix \"f\" is:\n",
    "\n",
    "This vector demonstrates the nodes in which heat sources are present."
   ]
  },
  {
   "cell_type": "code",
   "execution_count": null,
   "id": "0a468ba1",
   "metadata": {},
   "outputs": [],
   "source": [
    "f = np.zeros(19)\n",
    "f[[9, 14, 18]] = 0 #000 + np.array([4000, 1000, 2000,4000, 1000, 2000,4000, 1000])"
   ]
  },
  {
   "cell_type": "markdown",
   "id": "2b530d03",
   "metadata": {},
   "source": [
    "Matrix \"y\" is:\n",
    "\n",
    "This output vector has the size of the number of nodes in the model. For this case 19.\n"
   ]
  },
  {
   "cell_type": "code",
   "execution_count": null,
   "id": "12a358fb",
   "metadata": {},
   "outputs": [],
   "source": [
    "y = np.ones(19)"
   ]
  },
  {
   "cell_type": "markdown",
   "id": "9d80f55c",
   "metadata": {},
   "source": [
    "Matrix \"u\" is:\n",
    "\n",
    "This input vector is a concatenation of the non-zero elements both vectors b and f."
   ]
  },
  {
   "cell_type": "code",
   "execution_count": null,
   "id": "d5c7f8a0",
   "metadata": {},
   "outputs": [],
   "source": [
    "u = np.hstack([b[np.nonzero(b)], f[np.nonzero(f)]])"
   ]
  },
  {
   "cell_type": "markdown",
   "id": "d7e81112-5f74-46e6-a4ad-278c6e687a09",
   "metadata": {},
   "source": [
    "##### MODEL IMPLEMENTATION\n",
    "\n",
    "The complete analysis was carried by inserting the previous matrices into a state space representation."
   ]
  },
  {
   "cell_type": "code",
   "execution_count": null,
   "id": "0e3bc8c2",
   "metadata": {},
   "outputs": [],
   "source": [
    "[As, Bs, Cs, Ds] = dm4bem.tc2ss(A, G, b, C_f, f, y)"
   ]
  },
  {
   "cell_type": "markdown",
   "id": "99c60d61",
   "metadata": {},
   "source": [
    "Let's compare the steady state results obtained with the differential-algebraic equations of the thermal circuit:\n",
    "$$y_{tc} = (A^T G A)^{-1}(A^T G b + f)$$\n",
    "and the state-space:\n",
    "$$y_{ss} = (-C_s A_s^{-1} B_s + D_s) u$$ "
   ]
  },
  {
   "cell_type": "markdown",
   "id": "6a64db60-75b8-40aa-bfcd-4ad8f24d9e78",
   "metadata": {},
   "source": [
    "##### STEADY-STATE RESULTS"
   ]
  },
  {
   "cell_type": "code",
   "execution_count": null,
   "id": "81ad292e",
   "metadata": {},
   "outputs": [],
   "source": [
    "yss = (-Cs @ np.linalg.inv(As) @ Bs + Ds) @ u\n",
    "ytc = np.linalg.inv(A.T @ G @ A) @ (A.T @ G @ b + f)\n",
    "\n",
    "print(np.array_str(yss, precision=3, suppress_small=True))\n",
    "print(np.array_str(ytc, precision=3, suppress_small=True))\n",
    "print(f'Max error in steady-state between thermal circuit and state-space:\\\n",
    " {max(abs(yss - ytc)):.2e}')"
   ]
  },
  {
   "cell_type": "markdown",
   "id": "86e4fe9e",
   "metadata": {},
   "source": [
    "The error is neglectable, so the steady state matrices were correctly constructed."
   ]
  },
  {
   "cell_type": "markdown",
   "id": "9e3ba678-7aea-4290-814b-ee7aab44e068",
   "metadata": {},
   "source": [
    "##### DYNAMIC SIMULATION"
   ]
  },
  {
   "cell_type": "code",
   "execution_count": null,
   "id": "9b7f2522",
   "metadata": {},
   "outputs": [],
   "source": [
    "b = np.zeros(25)\n",
    "b[[11,12,17,22,23,24]] = 1\n",
    "f = np.zeros(19)\n",
    "f[[9, 14, 18]] = 1"
   ]
  },
  {
   "cell_type": "markdown",
   "id": "073c7c52",
   "metadata": {},
   "source": [
    "Let's consider that the output of the circuit is the indoor temperature at node 10:"
   ]
  },
  {
   "cell_type": "code",
   "execution_count": 6,
   "id": "35f4faad",
   "metadata": {},
   "outputs": [],
   "source": [
    "y = np.zeros(19)\n",
    "y[[10]] = 1"
   ]
  },
  {
   "cell_type": "markdown",
   "id": "2b7b2f2d",
   "metadata": {},
   "source": [
    "The state-space representation is obtained from the differential-algebraic equations of the thermal circuit:"
   ]
  },
  {
   "cell_type": "code",
   "execution_count": null,
   "id": "c5e14902",
   "metadata": {},
   "outputs": [],
   "source": [
    "[As, Bs, Cs, Ds] = dm4bem.tc2ss(A, G, b, C_f, f, y)"
   ]
  },
  {
   "cell_type": "markdown",
   "id": "a2d10c04",
   "metadata": {},
   "source": [
    "##### Time Step\n",
    "\n",
    "The maximum time step for numerical stability of Euler explicit itegration in time is given by the minimum eigenvalue $\\lambda$ of the state matrix $A_s$:\n",
    "\n",
    "$$ \\Delta t \\leq \\min (-2 / \\lambda_i) = \\min T_i/2$$\n",
    "\n",
    "where $T_i$ is the time constants, $T_i = - \\frac{1}{\\lambda_i} $"
   ]
  },
  {
   "cell_type": "code",
   "execution_count": null,
   "id": "f17f312c",
   "metadata": {},
   "outputs": [],
   "source": [
    "dtmax = min(-2. / np.linalg.eig(As)[0])\n",
    "print(f'Maximum time step: {dtmax:.2f} s')"
   ]
  },
  {
   "cell_type": "markdown",
   "id": "98309717",
   "metadata": {},
   "source": [
    "This time step should be smaller than dtmax:"
   ]
  },
  {
   "cell_type": "code",
   "execution_count": null,
   "id": "266f6d50",
   "metadata": {},
   "outputs": [],
   "source": [
    "dt = 300"
   ]
  },
  {
   "cell_type": "markdown",
   "id": "8942e9f3",
   "metadata": {},
   "source": [
    "##### Step Response\n",
    "\n",
    "A dynamic response of the system to a step input will be obtained for the duration of the simulation:"
   ]
  },
  {
   "cell_type": "code",
   "execution_count": null,
   "id": "9cfbdf89",
   "metadata": {},
   "outputs": [],
   "source": [
    "duration = 3600 * 24 * 15      # [s]\n",
    "n = int(np.floor(duration / dt))\n",
    "t = np.arange(0, n * dt, dt)    # time\n",
    "# Vectors of state and input (in time)\n",
    "n_tC = As.shape[0]              # no of state variables (temps with capacity)\n",
    "# u = [To To To To Tv Tsp Phi1 Phi2 Phi3]\n",
    "u = np.zeros([9, n])\n",
    "u[0:5, :] = np.ones([5, n])"
   ]
  },
  {
   "cell_type": "markdown",
   "id": "ea37eccc",
   "metadata": {},
   "source": [
    "The vectors for the evolution of temperatures (states) in time for Euler explicit and implicit are:"
   ]
  },
  {
   "cell_type": "code",
   "execution_count": null,
   "id": "039f3e0b",
   "metadata": {},
   "outputs": [],
   "source": [
    "temp_exp = np.zeros([n_tC, t.shape[0]])\n",
    "temp_imp = np.zeros([n_tC, t.shape[0]])\n",
    "\n",
    "I = np.eye(n_tC)\n",
    "for k in range(n - 1):\n",
    "    temp_exp[:, k + 1] = (I + dt * As) @\\\n",
    "        temp_exp[:, k] + dt * Bs @ u[:, k]\n",
    "    temp_imp[:, k + 1] = np.linalg.inv(I - dt * As) @\\\n",
    "        (temp_imp[:, k] + dt * Bs @ u[:, k])"
   ]
  },
  {
   "cell_type": "markdown",
   "id": "3b38effa",
   "metadata": {},
   "source": [
    "The outputs to obtain are:"
   ]
  },
  {
   "cell_type": "code",
   "execution_count": null,
   "id": "f3c1dd22",
   "metadata": {},
   "outputs": [],
   "source": [
    "y_exp = Cs @ temp_exp + Ds @  u\n",
    "y_imp = Cs @ temp_imp + Ds @  u\n",
    "\n",
    "fig, ax = plt.subplots()\n",
    "ax.plot(t / 3600, y_exp.T, t / 3600, y_imp.T)\n",
    "ax.set(xlabel='Time [h]',\n",
    "       ylabel='$T_i$ [°C]',\n",
    "       title='Step input: To = 1°C')"
   ]
  },
  {
   "cell_type": "code",
   "execution_count": null,
   "id": "157f0d9d",
   "metadata": {},
   "outputs": [],
   "source": [
    "b = np.zeros(25)\n",
    "b[[11,17,22,23,24]] = 1\n",
    "b[[12]] = 1\n",
    "f = np.zeros(19)\n",
    "\n",
    "ytc = np.linalg.inv(A.T @ G @ A) @ (A.T @ G @ b + f)\n",
    "print('Steady-state indoor temperature obtained with:')\n",
    "print(f'- DAE model: {ytc[18]:.4f} °C')\n",
    "print('- response to step input:', y_exp[0,len(y_exp[0])-1], '°C')"
   ]
  },
  {
   "cell_type": "markdown",
   "id": "d5174546-60cf-491d-a940-ff58042f7bf3",
   "metadata": {},
   "source": [
    "##### SIMULATION WITH WEATHER DATA"
   ]
  },
  {
   "cell_type": "markdown",
   "id": "8da6abca",
   "metadata": {},
   "source": [
    "Read the hourly weather data file from start date to end date. The data selected is for GRENOBLE and is 1 month of 2000."
   ]
  },
  {
   "cell_type": "code",
   "execution_count": null,
   "id": "ce90543a",
   "metadata": {},
   "outputs": [],
   "source": [
    "# P-controler gain\n",
    "Kp = 1e5            # almost perfect controller Kp -> ∞\n",
    "dt = 5"
   ]
  },
  {
   "cell_type": "code",
   "execution_count": null,
   "id": "fce02912",
   "metadata": {},
   "outputs": [],
   "source": [
    "filename = 'FRA_AR_Grenoble.074850_TMYx.epw'\n",
    "start_date = '2000-01-03 12:00:00'\n",
    "end_date = '2000-02-05 18:00:00'\n",
    "\n",
    "# Read weather data from Energyplus .epw file\n",
    "[data, meta] = dm4bem.read_epw(filename, coerce_year=None)\n",
    "weather = data[[\"temp_air\", \"dir_n_rad\", \"dif_h_rad\"]]\n",
    "del data\n",
    "weather.index = weather.index.map(lambda t: t.replace(year=2000))\n",
    "weather = weather[(weather.index >= start_date) & (\n",
    "    weather.index < end_date)]"
   ]
  },
  {
   "cell_type": "markdown",
   "id": "93b3b866",
   "metadata": {},
   "source": [
    "From weather data, the hourly solar radiation on two tilted south and west surfaces, Φt1 and Φt2 [W] are calculated:"
   ]
  },
  {
   "cell_type": "code",
   "execution_count": null,
   "id": "fbde02ee",
   "metadata": {},
   "outputs": [],
   "source": [
    "surface_orientation = {'slope': 90,\n",
    "                       'azimuth': 0,\n",
    "                       'latitude': 45}\n",
    "albedo = 0.5\n",
    "rad_surf1 = dm4bem.sol_rad_tilt_surf(weather, surface_orientation, albedo)\n",
    "rad_surf1['Φt1'] = rad_surf1.sum(axis=1)\n",
    "\n",
    "surface_orientation2 = {'slope': 90,\n",
    "                       'azimuth': 270,\n",
    "                       'latitude': 45}\n",
    "albedo = 0.5\n",
    "rad_surf2 = dm4bem.sol_rad_tilt_surf(weather, surface_orientation2, albedo)\n",
    "rad_surf2['Φt2'] = rad_surf2.sum(axis=1)\n"
   ]
  },
  {
   "cell_type": "markdown",
   "id": "f593e936",
   "metadata": {},
   "source": [
    "The weather data is at the time-step of 1h. It needs to be at time step of `dt`. "
   ]
  },
  {
   "cell_type": "code",
   "execution_count": null,
   "id": "a4a74327",
   "metadata": {},
   "outputs": [],
   "source": [
    "data = pd.concat([weather['temp_air'], rad_surf1['Φt1'],rad_surf2['Φt2']], axis=1)\n",
    "data = data.resample(str(dt) + 'S').interpolate(method='linear')\n",
    "data = data.rename(columns={'temp_air': 'To'})\n",
    "data['Tv'] = 20 * np.ones(data.shape[0])"
   ]
  },
  {
   "cell_type": "markdown",
   "id": "cce884d2",
   "metadata": {},
   "source": [
    "The indoor temperature setpoint Ti and auxiliary heat flow Qa constant for the whole simulation period are considered as follow:\n"
   ]
  },
  {
   "cell_type": "code",
   "execution_count": null,
   "id": "f0022d31",
   "metadata": {},
   "outputs": [],
   "source": [
    "data['Ti'] = 20 * np.ones(data.shape[0])\n"
   ]
  },
  {
   "cell_type": "markdown",
   "id": "c2ce1f8d",
   "metadata": {},
   "source": [
    "The simulation time vector, at time step `dt`is:"
   ]
  },
  {
   "cell_type": "code",
   "execution_count": null,
   "id": "baf689d9",
   "metadata": {},
   "outputs": [],
   "source": [
    "t = dt * np.arange(data.shape[0])"
   ]
  },
  {
   "cell_type": "markdown",
   "id": "55d69822",
   "metadata": {},
   "source": [
    "The input vector is formed by the temperature sources $\\left [ T_o, T_o ,T_o, T_{i,sp} \\right ]$ and the heat flow sources $\\left [ \\Phi_o, \\Phi_i, \\dot{Q_a}, \\Phi_a \\right ]$"
   ]
  },
  {
   "cell_type": "code",
   "execution_count": null,
   "id": "8c2e12c9",
   "metadata": {},
   "outputs": [],
   "source": [
    "# u = [To To To To Tsp Phio Phi1 .... Phi8]\n",
    "\n",
    "u = pd.concat([data['To'],\n",
    "               data['To'],\n",
    "               data['To'],\n",
    "               data['To'],\n",
    "               data['Ti'],\n",
    "               data['Tv'],\n",
    "               α_wSW * wall['Surface']['Glass'] * data['Φt1'],\n",
    "               α_wSW * wall['Surface']['Concrete_B6'] * data['Φt1'],\n",
    "               α_wSW * wall['Surface']['Concrete_B5'] * data['Φt2']], axis=1)"
   ]
  },
  {
   "cell_type": "markdown",
   "id": "a54a826e",
   "metadata": {},
   "source": [
    "The initial value of the state-vector can be different of zero:"
   ]
  },
  {
   "cell_type": "code",
   "execution_count": null,
   "id": "01526942",
   "metadata": {},
   "outputs": [],
   "source": [
    "temp_exp = 20 * np.ones([As.shape[0], u.shape[0]])\n",
    "\n",
    "for k in range(u.shape[0] - 1):\n",
    "    temp_exp[:, k + 1] = (I + dt * As) @ temp_exp[:, k]\\\n",
    "        + dt * Bs @ u.iloc[k, :]"
   ]
  },
  {
   "cell_type": "markdown",
   "id": "a376bd9c",
   "metadata": {},
   "source": [
    "yields the time variation of state variable $\\theta$, from which we obtain the variation of the output (i.e. indoor temperature):\n",
    "$$y = C_s \\theta + D_s u$$\n",
    "and the variation of the heat flow of the HVAC system:\n",
    "$$q_{HVAC} = K_p (T_{i,sp} - y)$$\n",
    "where $K_p$ is the gain of the P-controller and $T_{i,sp}$ is the HVAC-setpoint for the indoor temperature."
   ]
  },
  {
   "cell_type": "code",
   "execution_count": null,
   "id": "5aab111f",
   "metadata": {},
   "outputs": [],
   "source": [
    "y_exp = Cs @ temp_exp + Ds @ u.to_numpy().T\n",
    "q_HVAC = Kp * (data['Ti'] - y_exp[0, :])\n",
    "\n",
    "fig, axs = plt.subplots(2, 1)\n",
    "# plot indoor and outdoor temperature\n",
    "axs[0].plot(t / 3600, y_exp[0, :], label='$T_{indoor}$')\n",
    "axs[0].plot(t / 3600, data['To'], label='$T_{outdoor}$')\n",
    "axs[0].set(xlabel='Time [h]',\n",
    "           ylabel='Temperatures [°C]',\n",
    "           title='Simulation for weather')\n",
    "axs[0].legend(loc='upper right')\n",
    "\n",
    "# plot total solar radiation and HVAC heat flow\n",
    "axs[1].plot(t / 3600,  q_HVAC, label='$q_{HVAC}$')\n",
    "axs[1].plot(t / 3600, data['Φt1'], label='$Φ_{total}$')\n",
    "axs[1].set(xlabel='Time [h]',\n",
    "           ylabel='Heat flows [W]')\n",
    "axs[1].legend(loc='upper right')\n",
    "\n",
    "fig.tight_layout()"
   ]
  },
  {
   "cell_type": "markdown",
   "id": "20e60cd3-bbc8-434b-b84e-aec22ccbfa30",
   "metadata": {},
   "source": [
    "##### CONCLUSION\n",
    "\n",
    "The time step depends on:\n",
    "\n",
    "- P-controller gain `Kp`:\n",
    "    - if $K_p \\rightarrow \\infty$, then the controller is perfect and the time step needs to be small;\n",
    "    - if $K_p \\rightarrow 0$, then,the controller is inefffective and the building is in free-running.\n",
    "- Capacities considered into the model:\n",
    "    - if the capacities of the air $C_a =$ `C['Air']` and $C_g =$ `C['Glass']`are considered, then the time step is small;\n",
    "    - if the capacities of the air and of the glas are zero, then the time step is large.\n",
    "\n",
    "The controller models an HVAC system capable to heat (when $q_{HVAC} > 0$) and to cool $q_{HVAC} < 0$)."
   ]
  },
  {
   "cell_type": "code",
   "execution_count": null,
   "id": "3a400819",
   "metadata": {},
   "outputs": [],
   "source": []
  }
 ],
 "metadata": {
  "kernelspec": {
   "display_name": "Python 3 (ipykernel)",
   "language": "python",
   "name": "python3"
  },
  "language_info": {
   "codemirror_mode": {
    "name": "ipython",
    "version": 3
   },
   "file_extension": ".py",
   "mimetype": "text/x-python",
   "name": "python",
   "nbconvert_exporter": "python",
   "pygments_lexer": "ipython3",
   "version": "3.8.8"
  }
 },
 "nbformat": 4,
 "nbformat_minor": 5
}
