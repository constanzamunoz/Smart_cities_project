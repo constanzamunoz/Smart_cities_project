{
 "cells": [
  {
   "cell_type": "markdown",
   "id": "ae5be397-9849-453c-9419-6f3d8631d73c",
   "metadata": {},
   "source": [
    "# Control: HVAC & free cooling\n",
    "\n",
    "Objectives:\n",
    "* Change the control input during the integration. \n",
    "* Swing between modeles during the integration. "
   ]
  },
  {
   "cell_type": "code",
   "execution_count": 1,
   "id": "adea2685-af71-4706-a016-a6a56a7300ac",
   "metadata": {},
   "outputs": [],
   "source": [
    "import numpy as np\n",
    "import pandas as pd\n",
    "import matplotlib.pyplot as plt\n",
    "import dm4bem\n",
    "import tuto"
   ]
  },
  {
   "cell_type": "markdown",
   "id": "c795a899-0447-4785-af57-0bdda2aa9b51",
   "metadata": {
    "tags": []
   },
   "source": [
    "## Create the model for free-running"
   ]
  },
  {
   "cell_type": "markdown",
   "id": "16a20125-f10e-4773-94f2-d506c0a4522e",
   "metadata": {
    "tags": []
   },
   "source": [
    "Let's consider that the P-controller is not effective, i.e. $K_p \\rightarrow 0$. We create a model of the building in free running (the indoor temperature is free-floating)."
   ]
  },
  {
   "cell_type": "code",
   "execution_count": 2,
   "id": "6cf40e92-4dd9-4090-86a8-4bd53549d7de",
   "metadata": {},
   "outputs": [
    {
     "name": "stdout",
     "output_type": "stream",
     "text": [
      "Maximum time step in free-floating: 479.08 s\n"
     ]
    }
   ],
   "source": [
    "K0 = 1e-3   # no controller K0 -> 0\n",
    "TCa = tuto.thermal_circuit(K0)\n",
    "[As, Bs, Cs, Ds] = dm4bem.tc2ss(\n",
    "    TCa['A'], TCa['G'], TCa['b'], TCa['C'], TCa['f'], TCa['y'])\n",
    "dtmax = min(-2. / np.linalg.eig(As)[0])\n",
    "print(f'Maximum time step in free-floating: {dtmax:.2f} s')"
   ]
  },
  {
   "cell_type": "markdown",
   "id": "daae4579-1492-40c2-bc1f-a1a5b185964d",
   "metadata": {},
   "source": [
    "We chose: integration time step `dt`, indoor set point `Tisp` and dead-band `DeltaT`:"
   ]
  },
  {
   "cell_type": "code",
   "execution_count": 3,
   "id": "b167014e-bbf1-46b5-99d8-605416376d8f",
   "metadata": {},
   "outputs": [],
   "source": [
    "dt = 360\n",
    "Tisp = 20\n",
    "DeltaT = 4"
   ]
  },
  {
   "cell_type": "markdown",
   "id": "fa1a013a-1529-47e4-92c8-515c6e9f370f",
   "metadata": {
    "tags": []
   },
   "source": [
    "Let's simulate for this location and period:"
   ]
  },
  {
   "cell_type": "code",
   "execution_count": 4,
   "id": "37619618-648a-4df3-b562-7d6668d89389",
   "metadata": {
    "tags": []
   },
   "outputs": [],
   "source": [
    "filename = 'FRA_Lyon.074810_IWEC.epw'\n",
    "start_date = '2000-03-03 12:00:00'\n",
    "end_date = '2000-03-07 14:00:00'"
   ]
  },
  {
   "cell_type": "markdown",
   "id": "eaf0f0d0-8442-40a1-878c-a3a287a28d76",
   "metadata": {},
   "source": [
    "Obtain the inputs"
   ]
  },
  {
   "cell_type": "code",
   "execution_count": 5,
   "id": "b97029cd-a314-469a-a920-1ca12d0fa534",
   "metadata": {
    "tags": []
   },
   "outputs": [],
   "source": [
    "t, u, data = tuto.inputs(filename, start_date, end_date, dt,\n",
    "                    As, Bs, Cs, Ds, K0, Tisp)"
   ]
  },
  {
   "cell_type": "markdown",
   "id": "78857ccc-21ef-4d8b-838d-5a71db1b4357",
   "metadata": {
    "tags": []
   },
   "source": [
    "Initialize temperature vector"
   ]
  },
  {
   "cell_type": "code",
   "execution_count": 6,
   "id": "b76bf405-502f-499b-9915-5a5042d4576a",
   "metadata": {},
   "outputs": [],
   "source": [
    "temp_exp = np.full([As.shape[0], u.shape[0]], np.inf)\n",
    "temp_exp[:, 0] = Tisp * np.ones(As.shape[0])"
   ]
  },
  {
   "cell_type": "markdown",
   "id": "06996f3a-7531-4f3f-af90-2dc65e74b6c6",
   "metadata": {},
   "source": [
    "The identity matrix:"
   ]
  },
  {
   "cell_type": "code",
   "execution_count": 7,
   "id": "a5426ace-6fa1-4430-a3ff-cab64d832802",
   "metadata": {},
   "outputs": [],
   "source": [
    "I = np.eye(As.shape[0])"
   ]
  },
  {
   "cell_type": "markdown",
   "id": "f4316b47-2660-413e-9668-8610942ee903",
   "metadata": {},
   "source": [
    "## Predictive control\n",
    "The input `u.iloc[k, 6]` is calculated so that the temperature at the next time-step is in the limits (one step-ahead predictive controller). The calculation is done in the `while`loop with the controller incremental gain:"
   ]
  },
  {
   "cell_type": "code",
   "execution_count": 8,
   "id": "25421b9a-4e27-4264-96f3-a2092ba01327",
   "metadata": {},
   "outputs": [],
   "source": [
    "Ki = 10"
   ]
  },
  {
   "cell_type": "code",
   "execution_count": 9,
   "id": "769e7b96-c776-455f-8ace-6676678d57e7",
   "metadata": {},
   "outputs": [
    {
     "data": {
      "image/png": "[encoded data removed]",
      "text/plain": [
       "<Figure size 432x288 with 2 Axes>"
      ]
     },
     "metadata": {
      "needs_background": "light"
     },
     "output_type": "display_data"
    }
   ],
   "source": [
    "y = np.zeros(u.shape[0])\n",
    "y[0] = Tisp\n",
    "\n",
    "for k in range(u.shape[0] - 1):\n",
    "    while (y[k] < Tisp or y[k] > DeltaT + Tisp) and abs(Tisp - y[k]) > 0.2:\n",
    "        u.iloc[k, 6] += Ki * (Tisp - y[k])\n",
    "        temp_exp[:, k + 1] = (I + dt * As) @ temp_exp[:, k]\\\n",
    "            + dt * Bs @ u.iloc[k, :]\n",
    "        y[k] = Cs @ temp_exp[:, k + 1] + Ds @ u.iloc[k]\n",
    "\n",
    "    temp_exp[:, k + 1] = (I + dt * As) @ temp_exp[:, k]\\\n",
    "        + dt * Bs @ u.iloc[k, :]\n",
    "    y[k + 1] = Cs @ temp_exp[:, k] + Ds @ u.iloc[k]\n",
    "    u.iloc[k + 1, 6] = u.iloc[k, 6]\n",
    "\n",
    "q_HVAC = u.iloc[:, 6].to_numpy()\n",
    "tuto.plot_results(t, y, temp_exp, q_HVAC, data)"
   ]
  },
  {
   "cell_type": "markdown",
   "id": "df1814fa-9eb2-4fcf-80d3-b54a92d48875",
   "metadata": {},
   "source": [
    "## Predictive control with free-cooling"
   ]
  },
  {
   "cell_type": "markdown",
   "id": "7afd9e23-4065-48cc-b85e-2387e21afba8",
   "metadata": {
    "tags": []
   },
   "source": [
    "Create the model for free-coling (increase the ventilation rate):"
   ]
  },
  {
   "cell_type": "code",
   "execution_count": 12,
   "id": "c0378392-9185-417d-81a7-bd4e5aabbaa1",
   "metadata": {
    "tags": []
   },
   "outputs": [
    {
     "name": "stdout",
     "output_type": "stream",
     "text": [
      "Maximum time step in free-floating: 459.82 s\n"
     ]
    }
   ],
   "source": [
    "tuto.ACH = 2                     # air changes per hour\n",
    "tuto.Va_dot = tuto.ACH * tuto.Va / 3600    # m³/s air infiltration\n",
    "TCa = tuto.thermal_circuit(K0)\n",
    "[Av, Bv, Cv, Dv] = dm4bem.tc2ss(\n",
    "    TCa['A'], TCa['G'], TCa['b'], TCa['C'], TCa['f'], TCa['y'])\n",
    "dtmax = min(-2. / np.linalg.eig(Av)[0])\n",
    "print(f'Maximum time step in free-floating: {dtmax:.2f} s')"
   ]
  },
  {
   "cell_type": "markdown",
   "id": "c78139e1-b8ea-4bdc-9aec-704dc946686e",
   "metadata": {},
   "source": [
    "Initial values:"
   ]
  },
  {
   "cell_type": "code",
   "execution_count": 13,
   "id": "bfda9f5f-b25b-4885-b9e2-d9a0ee43d6b2",
   "metadata": {},
   "outputs": [],
   "source": [
    "t, u, data = tuto.inputs(filename, start_date, end_date, dt,\n",
    "                    As, Bs, Cs, Ds, K0, Tisp)\n",
    "temp_exp = np.full([As.shape[0], u.shape[0]], np.inf)\n",
    "temp_exp[:, 0] = Tisp * np.ones(As.shape[0])\n",
    "Ki = 10\n",
    "\n",
    "y = np.zeros(u.shape[0])\n",
    "y[0] = Tisp"
   ]
  },
  {
   "cell_type": "markdown",
   "id": "8bc27a58-e07e-4a41-9a9f-326ace99e0b9",
   "metadata": {},
   "source": [
    "If the outdoor temperature is lower than the set-point and if there is a need for cooling, use ventilation for free-cooling (model `Av, Bv, Cv, Dv`); if not, use the normal model (`As, Bs, Cs, Ds`)."
   ]
  },
  {
   "cell_type": "code",
   "execution_count": 14,
   "id": "f3cf343d-cbee-4c46-bcb5-f5e695ca85eb",
   "metadata": {},
   "outputs": [
    {
     "data": {
      "image/png": "[encoded data removed]",
      "text/plain": [
       "<Figure size 432x288 with 2 Axes>"
      ]
     },
     "metadata": {
      "needs_background": "light"
     },
     "output_type": "display_data"
    }
   ],
   "source": [
    "for k in range(u.shape[0] - 1):\n",
    "    if data.iloc[k]['To'] < Tisp and y[k] > DeltaT + Tisp:\n",
    "        while (y[k] < Tisp or y[k] > DeltaT + Tisp) and abs(Tisp - y[k]) > 0.2:\n",
    "            u.iloc[k, 6] += Ki * (Tisp - y[k])\n",
    "            temp_exp[:, k + 1] = (I + dt * Av) @ temp_exp[:, k]\\\n",
    "                + dt * Bv @ u.iloc[k, :]\n",
    "            y[k] = Cv @ temp_exp[:, k + 1] + Dv @ u.iloc[k]\n",
    "\n",
    "        temp_exp[:, k + 1] = (I + dt * Av) @ temp_exp[:, k]\\\n",
    "            + dt * Bv @ u.iloc[k, :]\n",
    "        y[k + 1] = Cv @ temp_exp[:, k] + Dv @ u.iloc[k]\n",
    "        u.iloc[k + 1, 6] = u.iloc[k, 6]\n",
    "    else:\n",
    "        while (y[k] < Tisp or y[k] > DeltaT + Tisp) and abs(Tisp - y[k]) > 0.2:\n",
    "            u.iloc[k, 6] += Ki * (Tisp - y[k])\n",
    "            temp_exp[:, k + 1] = (I + dt * As) @ temp_exp[:, k]\\\n",
    "                + dt * Bs @ u.iloc[k, :]\n",
    "            y[k] = Cs @ temp_exp[:, k + 1] + Ds @ u.iloc[k]\n",
    "\n",
    "        temp_exp[:, k + 1] = (I + dt * As) @ temp_exp[:, k]\\\n",
    "            + dt * Bs @ u.iloc[k, :]\n",
    "        y[k + 1] = Cs @ temp_exp[:, k] + Ds @ u.iloc[k]\n",
    "        u.iloc[k + 1, 6] = u.iloc[k, 6]\n",
    "\n",
    "q_HVAC = u.iloc[:, 6].to_numpy()\n",
    "tuto.plot_results(t, y, temp_exp, q_HVAC, data)"
   ]
  },
  {
   "cell_type": "code",
   "execution_count": null,
   "id": "02227e46-dc66-4239-a7c3-7e9ea048605f",
   "metadata": {},
   "outputs": [],
   "source": []
  }
 ],
 "metadata": {
  "kernelspec": {
   "display_name": "Python 3",
   "language": "python",
   "name": "python3"
  },
  "language_info": {
   "codemirror_mode": {
    "name": "ipython",
    "version": 3
   },
   "file_extension": ".py",
   "mimetype": "text/x-python",
   "name": "python",
   "nbconvert_exporter": "python",
   "pygments_lexer": "ipython3",
   "version": "3.8.8"
  }
 },
 "nbformat": 4,
 "nbformat_minor": 5
}
