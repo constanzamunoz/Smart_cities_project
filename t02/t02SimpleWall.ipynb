{
 "cells": [
  {
   "cell_type": "markdown",
   "id": "77d296df-fbab-4b65-947c-c590f5306b98",
   "metadata": {},
   "source": [
    "# Simple wall\n",
    "This tutorial presents how to obtain steady-state and dynamic thermal model for a simple wall which has capacities in all nodes and has as boundary conditions temperature, on one side, and heat flow rate, on the other. The dynamic responses are obtained by numerical integration using Euler explicit and implicit methods. The response of the building is studied for a step input and for outdoor temperature taken from weather data. The problems of numerical stability and the choice of the time-step for integration are discussed.\n",
    "\n",
    "## Physical characteristics and mathematical model"
   ]
  },
  {
   "cell_type": "code",
   "execution_count": 1,
   "id": "13f52d3c-0c5e-4dc9-8454-f620f6c866ed",
   "metadata": {},
   "outputs": [],
   "source": [
    "import numpy as np\n",
    "import pandas as pd\n",
    "import matplotlib.pyplot as plt\n",
    "import dm4bem\n",
    "\n",
    "# Physical properties\n",
    "# ===================\n",
    "wall = {'Conductivity': [1.400, 0.040],\n",
    "        'Density': [2300.0, 16.0],\n",
    "        'Specific heat': [880, 1210],\n",
    "        'Width': [0.2, 0.08],\n",
    "        'Slices': [4, 2]}\n",
    "wall = pd.DataFrame(wall, index=['Concrete', 'Insulation'])\n",
    "\n",
    "air = {'Density': 1.2,\n",
    "       'Specific heat': 1000}"
   ]
  },
  {
   "cell_type": "markdown",
   "id": "fd7f9308-fb14-4aaf-8b46-832f3aec903b",
   "metadata": {
    "tags": []
   },
   "source": [
    "Let’s consider the heat transfer through a wall which separates the outside air, at temperature $T_o$ from the inside air. Heat $Q_h$ is added to the inside air by a fan-coil (see figure).\n",
    "\n",
    "![wall](t02_wall.png)\n",
    "> Simple wall and its thermal network model. The concrete wall is divided in four slices and the insulation in two."
   ]
  },
  {
   "cell_type": "markdown",
   "id": "a56c6249-ce9c-4985-afa7-a76b8d474df8",
   "metadata": {},
   "source": [
    "The thermal properties of the wall and of the air are:"
   ]
  },
  {
   "cell_type": "code",
   "execution_count": 2,
   "id": "5fb39c0b-3a8e-49eb-9605-3149016b3bfe",
   "metadata": {
    "tags": []
   },
   "outputs": [
    {
     "data": {
      "text/html": [
       "<div>\n",
       "<style scoped>\n",
       "    .dataframe tbody tr th:only-of-type {\n",
       "        vertical-align: middle;\n",
       "    }\n",
       "\n",
       "    .dataframe tbody tr th {\n",
       "        vertical-align: top;\n",
       "    }\n",
       "\n",
       "    .dataframe thead th {\n",
       "        text-align: right;\n",
       "    }\n",
       "</style>\n",
       "<table border=\"1\" class=\"dataframe\">\n",
       "  <thead>\n",
       "    <tr style=\"text-align: right;\">\n",
       "      <th></th>\n",
       "      <th>Conductivity</th>\n",
       "      <th>Density</th>\n",
       "      <th>Specific heat</th>\n",
       "      <th>Width</th>\n",
       "      <th>Slices</th>\n",
       "    </tr>\n",
       "  </thead>\n",
       "  <tbody>\n",
       "    <tr>\n",
       "      <th>Concrete</th>\n",
       "      <td>1.40</td>\n",
       "      <td>2300.0</td>\n",
       "      <td>880</td>\n",
       "      <td>0.20</td>\n",
       "      <td>4</td>\n",
       "    </tr>\n",
       "    <tr>\n",
       "      <th>Insulation</th>\n",
       "      <td>0.04</td>\n",
       "      <td>16.0</td>\n",
       "      <td>1210</td>\n",
       "      <td>0.08</td>\n",
       "      <td>2</td>\n",
       "    </tr>\n",
       "  </tbody>\n",
       "</table>\n",
       "</div>"
      ],
      "text/plain": [
       "            Conductivity  Density  Specific heat  Width  Slices\n",
       "Concrete            1.40   2300.0            880   0.20       4\n",
       "Insulation          0.04     16.0           1210   0.08       2"
      ]
     },
     "execution_count": 2,
     "metadata": {},
     "output_type": "execute_result"
    }
   ],
   "source": [
    "wall"
   ]
  },
  {
   "cell_type": "code",
   "execution_count": 3,
   "id": "5da49179-df85-450b-afb8-2ce189571b3a",
   "metadata": {},
   "outputs": [
    {
     "data": {
      "text/plain": [
       "{'Density': 1.2, 'Specific heat': 1000}"
      ]
     },
     "execution_count": 3,
     "metadata": {},
     "output_type": "execute_result"
    }
   ],
   "source": [
    "air"
   ]
  },
  {
   "cell_type": "markdown",
   "id": "ce43b046-5309-4590-bc7d-9eadc510ef76",
   "metadata": {},
   "source": [
    "We'll consider the convection coefficients for indoor and outdoor:"
   ]
  },
  {
   "cell_type": "code",
   "execution_count": 4,
   "id": "d75aac24-7447-4aa5-ad6e-0971522a7389",
   "metadata": {},
   "outputs": [],
   "source": [
    "# convection coefficients, W/m² K\n",
    "h = pd.DataFrame([{'in': 4., 'out': 10}])"
   ]
  },
  {
   "cell_type": "markdown",
   "id": "05ee2332-5194-48e2-9871-b2ad418c3a88",
   "metadata": {},
   "source": [
    "The dimensions of the wall are 3 x 3 m² and the volume of the indoor air is 3 x 3 x 3 m³."
   ]
  },
  {
   "cell_type": "code",
   "execution_count": 5,
   "id": "16313646-e3eb-4c4e-8089-512c404fd20e",
   "metadata": {},
   "outputs": [],
   "source": [
    "S_wall = 3 * 3      # m²\n",
    "V_air = 3 * 3 * 3   # m³"
   ]
  },
  {
   "cell_type": "markdown",
   "id": "4afd34ed-2479-4e6e-975b-5abc44841e5a",
   "metadata": {},
   "source": [
    "## Thermal network model\n",
    "\n",
    "\n",
    "The wall cinsists in two layers: concrete and insulation. The concrete layer is discretized in 4 slices and the insulation layer in 2 slices. By adding together the resistances which are in series, the following thermal nework is obtained:\n",
    "![RC](t02_RC_model.png)\n",
    "> Thermal nework model of a simple wall obtained by considering the equivalent resistances of the resistanaces in series. The model contains capacities in every node.\n",
    "\n",
    "The circuit elements of the thermal network are the resistances and the capacities. Their values are found by using the thermo-physical properties of the materials."
   ]
  },
  {
   "cell_type": "markdown",
   "id": "48bb013c-1b43-4266-8cda-3d86d2875ea9",
   "metadata": {
    "tags": []
   },
   "source": [
    "### Resistances and capacities in the thermal network\n",
    "\n",
    "The thermal resistances for conduction are of the form:\n",
    "$$R_{cd} = \\frac{w}{\\lambda S}$$\n",
    "where:\n",
    "\n",
    "- $w$ is the width of the material, m;\n",
    "- $\\lambda$ - thermal conductvity, W/m K;\n",
    "- $S$ - surface area of the wall, m²"
   ]
  },
  {
   "cell_type": "code",
   "execution_count": 6,
   "id": "088becd6-b9ae-49c6-85bb-3fc922c6da97",
   "metadata": {},
   "outputs": [],
   "source": [
    "# conduction\n",
    "R_cd = wall['Width'] / (wall['Conductivity'] * S_wall)"
   ]
  },
  {
   "cell_type": "markdown",
   "id": "9a46c29e-7441-4fcb-9813-118997421d6a",
   "metadata": {},
   "source": [
    "The thermals resistance for convection are of the form:\n",
    "$$R_{cv} = \\frac{1}{h S}$$\n",
    "where:\n",
    "- $h$ is the convection coefficient, W/m² K;\n",
    "- $S$ - surface area of the wall, m²."
   ]
  },
  {
   "cell_type": "code",
   "execution_count": 7,
   "id": "3b4c190a-adb9-4929-a9f3-6f44a4eb8c1c",
   "metadata": {},
   "outputs": [],
   "source": [
    "# convection\n",
    "R_cv = 1 / (h * S_wall)"
   ]
  },
  {
   "cell_type": "markdown",
   "id": "e577517e-e842-4ef6-ab13-788bed4b7280",
   "metadata": {
    "tags": []
   },
   "source": [
    "The thermal capacities of the wall are of the form:\n",
    "$$C_{wall}= \\rho_{wall} c_{p, wall} w_{wall} S_{wall}$$"
   ]
  },
  {
   "cell_type": "code",
   "execution_count": 8,
   "id": "f28c17e8-9fea-4cc6-b178-d06c18393038",
   "metadata": {},
   "outputs": [],
   "source": [
    "C_wall = wall['Density'] * wall['Specific heat'] * wall['Width'] * S_wall"
   ]
  },
  {
   "cell_type": "markdown",
   "id": "bd58d4c3-3c26-40aa-93ee-d9e1deaac3fb",
   "metadata": {
    "tags": []
   },
   "source": [
    "The thermal capacity of the air is:\n",
    "$$C_{air} = \\rho_{air} c_{air} V_{air}$$"
   ]
  },
  {
   "cell_type": "code",
   "execution_count": 9,
   "id": "4a63c133-c8b3-409c-a5f3-d3df4d447157",
   "metadata": {},
   "outputs": [],
   "source": [
    "C_air = air['Density'] * air['Specific heat'] * V_air"
   ]
  },
  {
   "cell_type": "markdown",
   "id": "222f6d51-7c9f-4b5f-bdde-9412d4a36c05",
   "metadata": {},
   "source": [
    "## Differential algebraic equations (DAE)\n",
    "\n",
    "The number of temperature nodes and of flow branches of the thermal network depend on the number of slices obtained by the discretization of the wall:"
   ]
  },
  {
   "cell_type": "code",
   "execution_count": 10,
   "id": "04801b31-d54b-46c8-966c-70435343b5bf",
   "metadata": {},
   "outputs": [],
   "source": [
    "# number of temperature nodes and flow branches\n",
    "no_t = no_q = sum(wall['Slices']) + 1"
   ]
  },
  {
   "cell_type": "markdown",
   "id": "5cde72b1-da25-4799-949a-a65a5995ae0d",
   "metadata": {
    "tags": []
   },
   "source": [
    "### Conductance matrix **G**\n",
    "The resistances are grouped in the conductance matrix, which is diagonal:\n",
    "$$G = \\begin{bmatrix}\n",
    "R_0^{-1} &  &  & \\\\ \n",
    " & R_1^{-1} &  & \\\\ \n",
    " &  & ... & \\\\ \n",
    " &  &  & R_{nq}^{-1}\n",
    "\\end{bmatrix}$$\n",
    "\n",
    "where:\n",
    "- $nq$ is the number of flow branches, $nq = 6$;\n",
    "- $R_0 = R_{cv,out} + R_{cd,c} / 8$ ; this resistance is composed of outdoor convection and conduction in concrete; since the concrete is discretized in 4 slices, there are 8 resistances, each one of value $R_{cd,c} / 8$;\n",
    "- $R_1 = R_2 = R_3 = R_{cd,c} / 4$; two resiatances $R_{cd,c} / 8$ are added, resulting in $R_{cd,c} / 4$;\n",
    "- $R_4 = R_{cd,c} / 8 + R_{cd,i} / 4$; this resistance is formed by a slice of concrete and a slice of insulation;\n",
    "- $R_5 = R_{cd,i} / 2$; two slices of insulation, each one with resistance $R_{cd,i} / 4$, are in series; \n",
    "- $R_6 = R_{cd,i} / 4 + R_{cv,in}$ ; this resistance is composed of conduction in the insulation and convection at the inside surface of the wall.\n",
    "\n",
    "*Note*: each branch of the network needs to have a resistance (or a conductance)."
   ]
  },
  {
   "cell_type": "code",
   "execution_count": 11,
   "id": "3e2b55ce-258a-4d5b-91c4-067d799e5f22",
   "metadata": {
    "tags": []
   },
   "outputs": [],
   "source": [
    "# Conductance matrix\n",
    "R = np.zeros([no_q])\n",
    "R[0] = R_cv['out'] + R_cd['Concrete'] / 8\n",
    "R[1] = R[2] = R[3] = R_cd['Concrete'] / 4\n",
    "R[4] = R_cd['Concrete'] / 8 + R_cd['Insulation'] / 4\n",
    "R[5] = R_cd['Insulation'] / 2\n",
    "R[6] = R_cd['Insulation'] / 4 + R_cv['in']\n",
    "G = np.diag(np.reciprocal(R))"
   ]
  },
  {
   "cell_type": "markdown",
   "id": "1482717a-4d3f-46c3-b13a-4884d708e74b",
   "metadata": {
    "tags": []
   },
   "source": [
    "### Capacity matrix **C**\n",
    "The capacities are grouped in the capacity matrix, which is diagonal:\n",
    "$$C = \\begin{bmatrix}\n",
    "C_0 &  &  & \\\\ \n",
    " & C_1 &  & \\\\ \n",
    " &  & ... & \\\\ \n",
    " &  &  & C_{nt}\n",
    "\\end{bmatrix}$$\n",
    "\n",
    "where:\n",
    "- $nt$ is the number of temperature nodes, $nt = 6$;\n",
    "- $C_0 = C_1 = C_2 = C_3 = C_{wall, concrete} / 4$; since the concrete layer is divided in 4 slices, the capacity of a slice is 1/4 of the capacity of the concrete layer;\n",
    "- $C_4 = C_5 = C_{wall, insulation} / 2$; since the insulation layer is divided in 2 slices, the capacity of a slice is 1/2 of the capacity of the insulation layer;\n",
    "- $C_6 = C_{air}$.\n",
    "\n",
    "*Note*: not every temperature node needs to have a capacity. The capacity of a surface is zero, since its volume and, consequently, its mass are zero."
   ]
  },
  {
   "cell_type": "code",
   "execution_count": 12,
   "id": "6e2b1e00-e1bd-4e04-8a0e-6d0939fec93c",
   "metadata": {},
   "outputs": [],
   "source": [
    "C = np.zeros(no_t)\n",
    "C[0] = C[1] = C[2] = C[3] = C_wall['Concrete'] / 4\n",
    "C[4] = C[5] = C_wall['Insulation'] / 2\n",
    "C[6] = C_air\n",
    "C = np.diag(C)"
   ]
  },
  {
   "cell_type": "markdown",
   "id": "b2240685-a0df-4d70-ae16-2c3b2a78d401",
   "metadata": {
    "tags": []
   },
   "source": [
    "### Arc-node incidence matrix $A$\n",
    "The rows in the incidence matrix $A$ corespond to the branches containing the heat flow rates $q_k$ across the resistances $R_k$ and the columns correspond to the temperature nodes $\\theta_l$. In the row corresponding to the branch $R_k$ in the position of the node $\\theta_l$ there is -1 if the flow $q_k$ leaves the node, +1 if the flow $q_k$ enters into the node $\\theta_k$ and 0 if the resistance $R_k$ is not connected to the temperature node $\\theta_k$ [Ghiaus, 2013]:\n",
    "\n",
    "$$a_{kl} = \\begin{cases}\n",
    "\\phantom{-} 0 & \\text{if flow branch } q_k \\text{ is not connected to the temperature node }  \\theta_l \\\\ \n",
    "+1 & \\text{if flow branch } q_k \\text{ enters into the temperature node }  \\theta_l\\\\ \n",
    "-1 & \\text{if flow branch } q_k \\text{ gets out of the temperature node }  \\theta_l \n",
    "\\end{cases}$$\n",
    "\n",
    "The matrix -$A$ is a difference operator for the temperatures: $e = -A \\theta$ is the vector of differences between temperatures connected by resistances [Ghiaus, 2013]."
   ]
  },
  {
   "cell_type": "code",
   "execution_count": 13,
   "id": "db33412d-392f-42ab-8ab2-d575a92387a8",
   "metadata": {
    "tags": []
   },
   "outputs": [
    {
     "name": "stdout",
     "output_type": "stream",
     "text": [
      "[[ 1. -0. -0. -0. -0. -0. -0.]\n",
      " [-1.  1. -0. -0. -0. -0. -0.]\n",
      " [-0. -1.  1. -0. -0. -0. -0.]\n",
      " [-0. -0. -1.  1. -0. -0. -0.]\n",
      " [-0. -0. -0. -1.  1. -0. -0.]\n",
      " [-0. -0. -0. -0. -1.  1. -0.]\n",
      " [-0. -0. -0. -0. -0. -1.  1.]]\n"
     ]
    }
   ],
   "source": [
    "A = np.eye(no_q, no_t + 1)\n",
    "A = -np.diff(A, n=1, axis=1)\n",
    "print(A)"
   ]
  },
  {
   "cell_type": "markdown",
   "id": "56eb38e9-0c0c-472b-92d3-dad771c5f07d",
   "metadata": {},
   "source": [
    "### Vectors of temperature sources **b** and flows **f**\n",
    "First, we will set all the temperature sources **b** and flow sources **f** to zero:"
   ]
  },
  {
   "cell_type": "code",
   "execution_count": 14,
   "id": "4469f034-4713-49f6-b643-edda218cff58",
   "metadata": {},
   "outputs": [],
   "source": [
    "b = np.zeros(no_q)\n",
    "f = np.zeros(no_t)"
   ]
  },
  {
   "cell_type": "markdown",
   "id": "4c6703c3-4f78-4570-b12d-82e2ff4b7d92",
   "metadata": {
    "tags": []
   },
   "source": [
    "Their values will be changed depending on the conditions.\n",
    "\n",
    "The system of Algebraic-Differential Equations is:\n",
    "\n",
    "$$C\\dot{\\theta} = -A^T G A \\theta + A^T G b + f$$\n",
    "\n",
    "## Steady state solution\n",
    "\n",
    "The solution in steady-state is:\n",
    "\n",
    "$$\\theta = (A^T G A)^{-1}(A^T G b + f)$$\n",
    "$$q = G (-A \\theta + b)$$\n",
    "\n",
    "We will consider two steady states: \n",
    "1) The outdoor temperature is 1 °C, $b_0 = 1$."
   ]
  },
  {
   "cell_type": "code",
   "execution_count": 15,
   "id": "43fc79c0-69f3-46aa-ae2e-c5e6856a1ca4",
   "metadata": {},
   "outputs": [
    {
     "name": "stdout",
     "output_type": "stream",
     "text": [
      "When To = 1°C, the temperatures in steady-state are: [1. 1. 1. 1. 1. 1. 1.] °C\n",
      "The indoor temperature is: 1.000 °C\n"
     ]
    }
   ],
   "source": [
    "b[0] = 1\n",
    "temp_steady_To = np.linalg.inv(A.T @ G @ A) @ (A.T @ G @ b + f)\n",
    "np.set_printoptions(precision=3)\n",
    "print('When To = 1°C, the temperatures in steady-state are:', temp_steady_To, '°C')\n",
    "print(f'The indoor temperature is: {temp_steady_To[-1]:.3f} °C')"
   ]
  },
  {
   "cell_type": "markdown",
   "id": "2fd375fb-5d64-4215-a068-ce0f8da929fb",
   "metadata": {},
   "source": [
    "2. The indoor flow introduced by the fan-coil is 1 W, $f_6 = 1$."
   ]
  },
  {
   "cell_type": "code",
   "execution_count": 16,
   "id": "66202ab6-f2be-491f-9bfe-e7793e38390f",
   "metadata": {},
   "outputs": [
    {
     "name": "stdout",
     "output_type": "stream",
     "text": [
      "When Qh = 1W, the temperatures in steady-state are: [0.013 0.017 0.021 0.025 0.083 0.194 0.277] °C\n",
      "The indoor temperature is: 0.277 °C\n"
     ]
    }
   ],
   "source": [
    "b[0] = 0\n",
    "f[-1] = 1\n",
    "temp_steady_Qh = np.linalg.inv(A.T @ G @ A) @ (A.T @ G @ b + f)\n",
    "print('When Qh = 1W, the temperatures in steady-state are:', temp_steady_Qh, '°C')\n",
    "print(f'The indoor temperature is: {temp_steady_Qh[-1]:.3f} °C')"
   ]
  },
  {
   "cell_type": "markdown",
   "id": "6803f7d1-6ed3-4010-ad18-496ded1af9fa",
   "metadata": {
    "tags": []
   },
   "source": [
    "## State-space model\n",
    "If the matrix $C$ is invertible (or non-singular), then the Differential-algebraic system of equations\n",
    "\n",
    "$$C\\dot{\\theta} = -A^T G A \\theta + A^T G b + f$$\n",
    "\n",
    "can be put in the state-space representation\n",
    "\n",
    "$$\\left\\{\\begin{array}{rr}\n",
    "\\dot{\\theta}=A_s \\theta + B_s u\\\\ \n",
    "y = C_s \\theta + D_s u\n",
    "\\end{array}\\right.$$\n",
    "\n",
    "where:\n",
    "- $u = \\begin{bmatrix} b \\\\ f\\end{bmatrix}$ is the vector of inputs (temperature sources $b$ and flow sources $f$);\n",
    "- $A_s = -C^{-1} A^T G A$ is the state matrix, $\\dim A = n_\\theta \\times n_\\theta$;\n",
    "- $B_s = C^{-1}\\begin{bmatrix}\n",
    "A^T G & I\n",
    "\\end{bmatrix}$ is the input matrix, $\\dim B = n_\\theta \\times n_u$;\n",
    "- $C_s = \\begin{bmatrix} 0 & 0 & ... &1 \\end{bmatrix}$ is the output matrix, $\\dim C = 1 \\times n_\\theta$;\n",
    "- $D_s = \\begin{bmatrix} 0 & 0 & ... &0 \\end{bmatrix}$ is the feedthrough (or feedforward matrix, $\\dim D = 1 \\times n_u$.\n",
    "\n",
    "The first equation, $ \\dot{\\theta}=A_s \\theta + B_s u $, is called *state* or *system* equation and the second equation, $ y = C_s \\theta + D_s u $, is calld *observation* equation,"
   ]
  },
  {
   "cell_type": "markdown",
   "id": "1a5dc77c-73b3-40d5-9ce7-ab435daf6e70",
   "metadata": {
    "tags": []
   },
   "source": [
    "The input matrix is\n",
    "$B_s = C^{-1}\\begin{bmatrix}\n",
    "A^T G & I\n",
    "\\end{bmatrix}$"
   ]
  },
  {
   "cell_type": "code",
   "execution_count": 17,
   "id": "3209c96b-2b15-40ee-b88d-9ef2f999b3ed",
   "metadata": {},
   "outputs": [],
   "source": [
    "B = np.linalg.inv(C) @ np.block([A.T @ G, np.eye(no_t)])"
   ]
  },
  {
   "cell_type": "markdown",
   "id": "21300bdb-5397-4da3-b897-2d14e010e1d6",
   "metadata": {
    "tags": []
   },
   "source": [
    "The input vector if formed by stacking the vector of temperature sources $b$ and the vector of flow sources $f$:\n",
    "$$u = \\begin{bmatrix} b \\\\ f\\end{bmatrix}$$\n",
    "\n",
    "However, many sources in the model are zero. For our example, there are only two sources: $T_o$ and $Q_h$. Therefore,\n",
    "$$b = \\begin{bmatrix}\n",
    "T_o\\\\ \n",
    "0\\\\ \n",
    "...\\\\ \n",
    "0\n",
    "\\end{bmatrix}$$\n",
    "and\n",
    "$$f = \\begin{bmatrix}\n",
    "0\\\\ \n",
    "0\\\\ \n",
    "...\\\\ \n",
    "Q_h\n",
    "\\end{bmatrix}$$\n",
    "\n",
    "Since the sources which are always zero have no influence on the outputs, they cen be neglected. Only the columns that correspond to existing sources, i.e., the 1st and the last, are kept in matix $B$: "
   ]
  },
  {
   "cell_type": "code",
   "execution_count": 18,
   "id": "f6dd7129-672e-4239-82ed-7a557c0916a1",
   "metadata": {
    "jupyter": {
     "source_hidden": true
    },
    "tags": []
   },
   "outputs": [],
   "source": [
    "# Select columns for which the input vector is not zero\n",
    "# 1st for To and last for Qh\n",
    "B = B[:, [0, -1]]"
   ]
  },
  {
   "cell_type": "markdown",
   "id": "015f0b5b-0ff8-45f0-b9fb-ed76c31d1ff4",
   "metadata": {
    "tags": []
   },
   "source": [
    "The state matrix is $A_s = -C^{-1} A^T G A$"
   ]
  },
  {
   "cell_type": "code",
   "execution_count": 19,
   "id": "a6356bc1-0658-401e-a4db-5795c93ee248",
   "metadata": {},
   "outputs": [],
   "source": [
    "# State matrix\n",
    "A = -np.linalg.inv(C) @ A.T @ G @ A"
   ]
  },
  {
   "cell_type": "markdown",
   "id": "5673cfbb-4f87-4649-a38c-151e6fec0efc",
   "metadata": {
    "tags": []
   },
   "source": [
    "The output matrix $C$ extracts the values of interest from the state vector (the vector of temperatures). In our case, the temperature of interest is the indoor temperature,\n",
    "$$T_o \\equiv  \\theta_6 = \\begin{bmatrix}\n",
    "0 & 0 & 0 & 0 & 0 & 0 & 1\n",
    "\\end{bmatrix}\n",
    "\\begin{bmatrix}\n",
    "\\theta_0\\\\ \n",
    "\\theta_1\\\\ \n",
    "\\theta_2\\\\ \n",
    "\\theta_3\\\\ \n",
    "\\theta_4\\\\ \n",
    "\\theta_5\\\\ \n",
    "\\theta_6\n",
    "\\end{bmatrix} = C \\theta$$\n",
    "\n",
    "which gives\n",
    "\n",
    "$$C = \\begin{bmatrix}\n",
    "0 & 0 & 0 & 0 & 0 & 0 & 1\n",
    "\\end{bmatrix}$$"
   ]
  },
  {
   "cell_type": "code",
   "execution_count": 20,
   "id": "50b2af3c-cc3d-4bd5-973e-f3d28b6c6829",
   "metadata": {},
   "outputs": [],
   "source": [
    "# Output matrix\n",
    "C = np.zeros((1, no_t))\n",
    "# output: last temperature node\n",
    "C[:, -1] = 1"
   ]
  },
  {
   "cell_type": "markdown",
   "id": "2c89f7bd-c9cb-467d-9b6b-eff6a50f49c2",
   "metadata": {
    "tags": []
   },
   "source": [
    "The feedthrough matrix $D$ has one row (the number of outputs) and two columns (the same as the number of columns of matrix $B$), which is the number of inputs $u$; in this case, $D$ is composed only of zeros:"
   ]
  },
  {
   "cell_type": "code",
   "execution_count": 21,
   "id": "bed9883f-94da-435e-93ec-fc5230603cae",
   "metadata": {},
   "outputs": [],
   "source": [
    "# Feedthrough (or feedforward) matrix\n",
    "D = np.zeros(B.shape[1])"
   ]
  },
  {
   "cell_type": "markdown",
   "id": "ac4cf6ec-7887-4636-848a-f246a3e81f35",
   "metadata": {
    "tags": []
   },
   "source": [
    "## Eigenvalues, numerical stability and time-step\n",
    "\n",
    "The stability condition for explicit Euler method requires that all eigenvalues $\\lambda _i \\in \\mathbb{Z}$ of the state matrix $A$ satisfy the condition\n",
    "$$ \\left | 1 + \\lambda _i \\Delta t \\right | \\leq 1, \\forall i $$\n",
    "\n",
    "If the all eigenvalues of state matrix $A$ are real, as is the case for thermal networks, then the above condition becomes:\n",
    "$$ -2 \\leq \\lambda _i\\Delta t\\leq 0, \\forall i $$.\n",
    "\n",
    "Since the eigenvalues $\\lambda_i$ are related to time constants $T_i$,\n",
    "$$ \\lambda _i = - \\frac{1}{T_i} $$\n",
    "it results that the condition for stability is \n",
    "$$ \\Delta t \\leq \\min T_i/2 = -2 / \\min \\lambda_i $$"
   ]
  },
  {
   "cell_type": "code",
   "execution_count": 22,
   "id": "5946e145-25e6-44f6-8779-0197f8a79ac8",
   "metadata": {
    "tags": []
   },
   "outputs": [
    {
     "name": "stdout",
     "output_type": "stream",
     "text": [
      "Max time step dt: 416.11 s\n"
     ]
    }
   ],
   "source": [
    "max_dt = min(-2 / np.linalg.eig(A)[0])\n",
    "print(f'Max time step dt: {max_dt:.2f} s')"
   ]
  },
  {
   "cell_type": "markdown",
   "id": "ce6aacd0-a76e-4f81-b4f3-6ffc2a36226b",
   "metadata": {},
   "source": [
    "We choose a time step smaller than the maximum admited for stability."
   ]
  },
  {
   "cell_type": "code",
   "execution_count": 23,
   "id": "778057b4-8cee-4951-8857-5c6c943d8cf4",
   "metadata": {},
   "outputs": [],
   "source": [
    "dt = 360\n",
    "# dt = 416.5"
   ]
  },
  {
   "cell_type": "markdown",
   "id": "e9851f10-a2ea-4eff-9781-fe3ef8333b86",
   "metadata": {},
   "source": [
    "## Time integration using explcit and implicit Euler methods\n",
    "We will study the dynamics reponse of the of the model to: \n",
    "- a step variation of a source (outdoor temperature $T_o$ or indoor flow $Q_h$);\n",
    "- variation of outdoor temperature given by weather data.\n",
    "\n",
    "We want the weather data for Lyon from 10 April to 15 May. "
   ]
  },
  {
   "cell_type": "code",
   "execution_count": 24,
   "id": "e93f760c-381f-4729-99e9-b209cee7ea98",
   "metadata": {},
   "outputs": [],
   "source": [
    "filename = 'FRA_Lyon.074810_IWEC.epw'\n",
    "start_date = '2000-04-10'\n",
    "end_date = '2000-05-15'"
   ]
  },
  {
   "cell_type": "markdown",
   "id": "173122d4-0d37-4360-8bb6-9d132d5c0bd9",
   "metadata": {},
   "source": [
    "From the read data, only the air temperature, direct solar radiation on normal surface and diffuse solar radiation on horisontal surface are kept. "
   ]
  },
  {
   "cell_type": "code",
   "execution_count": 25,
   "id": "460b93f7-256c-4339-befd-43944e5bd496",
   "metadata": {},
   "outputs": [],
   "source": [
    "[data, meta] = dm4bem.read_epw(filename, coerce_year=None)\n",
    "weather = data[[\"temp_air\", \"dir_n_rad\", \"dif_h_rad\"]]\n",
    "del data"
   ]
  },
  {
   "cell_type": "markdown",
   "id": "f8a62420-f7a6-4a20-969f-2f8f44e00032",
   "metadata": {},
   "source": [
    "Each month in the weather data is taken from another year. We will replace the years with only one value, e.g. 2000, then keep ony the values between `start_date` and `end_date`."
   ]
  },
  {
   "cell_type": "code",
   "execution_count": 26,
   "id": "eac78fba-d23d-4b02-a0d0-85f452cc0e58",
   "metadata": {},
   "outputs": [],
   "source": [
    "weather.index = weather.index.map(lambda t: t.replace(year=2000))\n",
    "weather = weather[(weather.index >= start_date) & (\n",
    "    weather.index < end_date)]"
   ]
  },
  {
   "cell_type": "markdown",
   "id": "0a5aaf06-f1af-4ed2-88b7-a9beaf6326a5",
   "metadata": {},
   "source": [
    "Since the data is given hourly, the number of days in the simulation will be:"
   ]
  },
  {
   "cell_type": "code",
   "execution_count": 27,
   "id": "a8a81faa-b36f-442e-bb1d-c27c58ccfef8",
   "metadata": {},
   "outputs": [
    {
     "data": {
      "text/plain": [
       "35.0"
      ]
     },
     "execution_count": 27,
     "metadata": {},
     "output_type": "execute_result"
    }
   ],
   "source": [
    "days = weather.shape[0] / 24\n",
    "days"
   ]
  },
  {
   "cell_type": "markdown",
   "id": "a8942bfc-cda8-47f7-8f9b-49442fec2e43",
   "metadata": {},
   "source": [
    "The number of steps and the time vector will be"
   ]
  },
  {
   "cell_type": "code",
   "execution_count": 28,
   "id": "9c552640-2dd5-4718-bdff-af248e8f3479",
   "metadata": {},
   "outputs": [],
   "source": [
    "# number of steps\n",
    "n = int(np.floor(3600 / dt * 2 * days))\n",
    "# time\n",
    "t = np.arange(0, n * dt, dt)"
   ]
  },
  {
   "cell_type": "markdown",
   "id": "004b7645-e93f-4d7a-b3be-eda0726b08fe",
   "metadata": {
    "tags": []
   },
   "source": [
    "### Step input: outdoor temperature $T_o$\n",
    "\n",
    "Let's consider that the outdoor temperature $T_o$ has a step variation of 1°C (the indoor heat flow is zero, $Q_h = 0$:"
   ]
  },
  {
   "cell_type": "code",
   "execution_count": 29,
   "id": "8beaea55-da77-4700-813e-90e7f6e2b8c8",
   "metadata": {},
   "outputs": [],
   "source": [
    "u = np.block([[np.ones([1, n])],\n",
    "              [np.zeros([1, n])]])"
   ]
  },
  {
   "cell_type": "markdown",
   "id": "22aa2c9c-6d2a-4275-a7da-328a73678d47",
   "metadata": {},
   "source": [
    "We initialize to zero the temperature vector for explicit and implicit Euler."
   ]
  },
  {
   "cell_type": "code",
   "execution_count": 30,
   "id": "45d89d6a-7246-4cae-b2ee-47cac89128f1",
   "metadata": {},
   "outputs": [],
   "source": [
    "# initial values for temperatures obtained by explicit and implicit Euler\n",
    "temp_exp = np.zeros([no_t, t.shape[0]])\n",
    "temp_imp = np.zeros([no_t, t.shape[0]])"
   ]
  },
  {
   "cell_type": "markdown",
   "id": "c9b1dddb-7ab4-4a06-a3dc-c7af53e6f00f",
   "metadata": {
    "tags": []
   },
   "source": [
    "The formula for Euler forward (or explicit) integration is\n",
    "$$ \\theta_{k+1} = (I + \\Delta t A) \\theta _k + \\Delta t B u_k $$\n",
    "and for Euler backward (or implicit) integration it is\n",
    "$$\\theta_{k+1} = (I - \\Delta t A)^{-1} ( \\theta _k + \\Delta t B u_k )$$"
   ]
  },
  {
   "cell_type": "code",
   "execution_count": 31,
   "id": "02a1d979-9d72-4f1a-922f-d69e7710874b",
   "metadata": {},
   "outputs": [],
   "source": [
    "for k in range(t.shape[0] - 1):\n",
    "    temp_exp[:, k + 1] = (np.eye(no_t) + dt * A) @\\\n",
    "        temp_exp[:, k] + dt * B @ u[:, k]\n",
    "    temp_imp[:, k + 1] = np.linalg.inv(np.eye(no_t) - dt * A) @\\\n",
    "        (temp_imp[:, k] + dt * B @ u[:, k])"
   ]
  },
  {
   "cell_type": "code",
   "execution_count": 32,
   "id": "fafd87a2-0fbf-448a-890e-fb764d98cef0",
   "metadata": {},
   "outputs": [
    {
     "data": {
      "text/plain": [
       "<matplotlib.legend.Legend at 0x7fb0b7f1a1f0>"
      ]
     },
     "execution_count": 32,
     "metadata": {},
     "output_type": "execute_result"
    },
    {
     "data": {
      "image/png": "[encoded data removed]",
      "text/plain": [
       "<Figure size 432x288 with 1 Axes>"
      ]
     },
     "metadata": {
      "needs_background": "light"
     },
     "output_type": "display_data"
    }
   ],
   "source": [
    "fig, ax = plt.subplots()\n",
    "ax.plot(t / 3600, temp_exp[-1, :], t / 3600, temp_imp[-1, :])\n",
    "ax.set(xlabel='Time [h]', ylabel='Air temperature [°C]', title='Step input: $T_o$')\n",
    "ax.legend(['Explicit', 'Implicit'])"
   ]
  },
  {
   "cell_type": "markdown",
   "id": "ab0db10a-5856-499d-a091-fc7a5e241be1",
   "metadata": {
    "tags": []
   },
   "source": [
    "### Step input: indoor heat flow $Q_h$\n",
    "\n",
    "Let's consider that the outdoor temperature $Q_h$ has a step variation of 1 W (the outdoor temperature is zero, $T_o = 0$:"
   ]
  },
  {
   "cell_type": "code",
   "execution_count": 33,
   "id": "ccdb13ba-33af-48d2-8d23-c41811bf4262",
   "metadata": {},
   "outputs": [],
   "source": [
    "u = np.block([[np.zeros([1, n])],\n",
    "              [np.ones([1, n])]])"
   ]
  },
  {
   "cell_type": "markdown",
   "id": "231e50c0-a0dc-473d-8524-b07af73e55a9",
   "metadata": {},
   "source": [
    "We initialize again to zero the temperature vector for explicit and implicit Euler."
   ]
  },
  {
   "cell_type": "code",
   "execution_count": 34,
   "id": "a634b12f-c35b-4dfe-bedd-5abbe8f77bb2",
   "metadata": {},
   "outputs": [],
   "source": [
    "temp_exp = np.zeros([no_t, t.shape[0]])\n",
    "temp_imp = np.zeros([no_t, t.shape[0]])"
   ]
  },
  {
   "cell_type": "markdown",
   "id": "fb201c0d-5f4e-47b9-b486-65ff911d327e",
   "metadata": {},
   "source": [
    "The formula for Euler forward (or explicit) integration is\n",
    "$$ \\theta_{k+1} = (I + \\Delta t A) \\theta _k + \\Delta t B u_k $$\n",
    "and for Euler backward (or implicit) integration it is\n",
    "$$\\theta_{k+1} = (I - \\Delta t A)^{-1} ( \\theta _k + \\Delta t B u_k )$$"
   ]
  },
  {
   "cell_type": "code",
   "execution_count": 35,
   "id": "de5bd0bd-1623-402f-9d99-d458f804ec10",
   "metadata": {},
   "outputs": [],
   "source": [
    "for k in range(t.shape[0] - 1):\n",
    "    temp_exp[:, k + 1] = (np.eye(no_t) + dt * A) @\\\n",
    "        temp_exp[:, k] + dt * B @ u[:, k]\n",
    "    temp_imp[:, k + 1] = np.linalg.inv(np.eye(no_t) - dt * A) @\\\n",
    "        (temp_imp[:, k] + dt * B @ u[:, k])"
   ]
  },
  {
   "cell_type": "code",
   "execution_count": 36,
   "id": "b39e3552-b359-4ed4-b55a-7071d6adeb5b",
   "metadata": {},
   "outputs": [
    {
     "data": {
      "text/plain": [
       "<matplotlib.legend.Legend at 0x7fb0b813bc10>"
      ]
     },
     "execution_count": 36,
     "metadata": {},
     "output_type": "execute_result"
    },
    {
     "data": {
      "image/png": "[encoded data removed]",
      "text/plain": [
       "<Figure size 432x288 with 1 Axes>"
      ]
     },
     "metadata": {
      "needs_background": "light"
     },
     "output_type": "display_data"
    }
   ],
   "source": [
    "fig, ax = plt.subplots()\n",
    "ax.plot(t / 3600, temp_exp[-1, :], t / 3600, temp_imp[-1, :])\n",
    "ax.set(xlabel='Time [h]', ylabel='Air temperature [°C]', title='Step input: $Q_h$')\n",
    "ax.legend(['Explicit', 'Implicit'])"
   ]
  },
  {
   "cell_type": "markdown",
   "id": "43472649-b64d-4165-8269-aeb752898315",
   "metadata": {
    "tags": []
   },
   "source": [
    "### Simulation with outdoor temperature, $T_o$\n",
    "\n",
    "Time vector (in seconds) for weather data:"
   ]
  },
  {
   "cell_type": "code",
   "execution_count": 37,
   "id": "a9bf28f6-ba5e-409d-a11d-13febf5905a5",
   "metadata": {},
   "outputs": [],
   "source": [
    "tw = np.arange(0, 3600 * weather.shape[0], 3600)"
   ]
  },
  {
   "cell_type": "markdown",
   "id": "3a50937c-7251-404b-8ac5-66d24290b971",
   "metadata": {
    "tags": []
   },
   "source": [
    "Interpolate the outdoor tempertaure $T_o$ (which is at a time step of 1 h) to a time step equal to $dt$:"
   ]
  },
  {
   "cell_type": "code",
   "execution_count": 38,
   "id": "1a6b40ba-f3a7-4547-9483-ab2812690ce7",
   "metadata": {},
   "outputs": [],
   "source": [
    "t = np.arange(0, 3600 * weather.shape[0], dt)\n",
    "# outdoor temperature at timestep dt\n",
    "temp_out = np.interp(t, tw, weather['temp_air'])"
   ]
  },
  {
   "cell_type": "markdown",
   "id": "55dad0f4-91b2-47cd-99fc-c514403ab019",
   "metadata": {},
   "source": [
    "Form the input vector $u$ from outdoor temperature and indoor heat flow $Q_h$, which is zero:"
   ]
  },
  {
   "cell_type": "code",
   "execution_count": 39,
   "id": "e58752a7-c128-468f-9095-d8005c691131",
   "metadata": {},
   "outputs": [],
   "source": [
    "u = np.block([[temp_out],\n",
    "             [np.zeros(temp_out.shape[0])]])"
   ]
  },
  {
   "cell_type": "markdown",
   "id": "6709c8f4-b0f3-4d05-bf05-402588fc4e91",
   "metadata": {
    "tags": []
   },
   "source": [
    "Initialize the temperature vectors for explicit and implicit Euler and integrate."
   ]
  },
  {
   "cell_type": "code",
   "execution_count": 40,
   "id": "537a9217-949e-411c-b6c6-79a6f0029680",
   "metadata": {},
   "outputs": [],
   "source": [
    "temp_exp = np.zeros([no_t, t.shape[0]])\n",
    "temp_imp = np.zeros([no_t, t.shape[0]])\n",
    "for k in range(n - 1):\n",
    "    temp_exp[:, k + 1] = (np.eye(no_t) + dt * A) @\\\n",
    "        temp_exp[:, k] + dt * B @ u[:, k]\n",
    "    temp_imp[:, k + 1] = np.linalg.inv(np.eye(no_t) - dt * A) @\\\n",
    "        (temp_imp[:, k] + dt * B @ u[:, k])"
   ]
  },
  {
   "cell_type": "code",
   "execution_count": 41,
   "id": "325d6b49-685e-46c9-a663-3f53d0abd23d",
   "metadata": {},
   "outputs": [
    {
     "data": {
      "text/plain": [
       "<matplotlib.legend.Legend at 0x7fb0b35f9790>"
      ]
     },
     "execution_count": 41,
     "metadata": {},
     "output_type": "execute_result"
    },
    {
     "data": {
      "image/png": "[encoded data removed]",
      "text/plain": [
       "<Figure size 432x288 with 1 Axes>"
      ]
     },
     "metadata": {
      "needs_background": "light"
     },
     "output_type": "display_data"
    }
   ],
   "source": [
    "fig, ax = plt.subplots()\n",
    "ax.plot(t / 3600, temp_exp[-1, :],\n",
    "               t / 3600, temp_out)\n",
    "ax.set(xlabel='Time [h]', ylabel='Air temperature [°C]', title='Explicit Euler')\n",
    "ax.legend(['Indoor temp.', 'Outdoor temp.'])"
   ]
  },
  {
   "cell_type": "code",
   "execution_count": 42,
   "id": "4b737753-1900-4c53-b307-07da0361d5ee",
   "metadata": {},
   "outputs": [
    {
     "data": {
      "text/plain": [
       "<matplotlib.legend.Legend at 0x7fb0b835a640>"
      ]
     },
     "execution_count": 42,
     "metadata": {},
     "output_type": "execute_result"
    },
    {
     "data": {
      "image/png": "[encoded data removed]",
      "text/plain": [
       "<Figure size 432x288 with 1 Axes>"
      ]
     },
     "metadata": {
      "needs_background": "light"
     },
     "output_type": "display_data"
    }
   ],
   "source": [
    "fig, ax = plt.subplots()\n",
    "ax.plot(t / 3600, temp_imp[-1, :],\n",
    "               t / 3600, temp_out)\n",
    "ax.set(xlabel='Time [h]', ylabel='Air temperature [°C]', title='Implicit Euler')\n",
    "ax.legend(['Indoor temp.', 'Outdoor temp.'])"
   ]
  },
  {
   "cell_type": "markdown",
   "id": "352c7f79-4e5f-4d20-ba5a-a5bb80681fcc",
   "metadata": {
    "tags": []
   },
   "source": [
    "**References**\n",
    "\n",
    "C. Ghiaus (2013) Causality issue in he heat balance method for calculating the design heating and cooling loads, *Energy* 50: 292-301, https://doi.org/10.1016/j.energy.2012.10.024\n"
   ]
  }
 ],
 "metadata": {
  "kernelspec": {
   "display_name": "Python 3",
   "language": "python",
   "name": "python3"
  },
  "language_info": {
   "codemirror_mode": {
    "name": "ipython",
    "version": 3
   },
   "file_extension": ".py",
   "mimetype": "text/x-python",
   "name": "python",
   "nbconvert_exporter": "python",
   "pygments_lexer": "ipython3",
   "version": "3.8.8"
  }
 },
 "nbformat": 4,
 "nbformat_minor": 5
}
