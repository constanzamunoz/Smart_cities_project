{
 "cells": [
  {
   "cell_type": "markdown",
   "id": "61d66c34-c1c0-440e-817c-f70119c2b5e1",
   "metadata": {},
   "source": [
    "# Weather data and solar radiation"
   ]
  },
  {
   "cell_type": "markdown",
   "id": "71d3c0e5-b787-4803-b47f-59f39dde3615",
   "metadata": {},
   "source": [
    "Objetives:\n",
    "\n",
    "- Obtain weather data from Energy Plus \n",
    "- Read weather data \n",
    "- Find solar radiation on a tilted surface \n",
    "- Visualize and discuss the data \n"
   ]
  },
  {
   "cell_type": "markdown",
   "id": "73baf44b-5428-4077-9334-f52ccc060e69",
   "metadata": {},
   "source": [
    "## Obtain weather data from EnergyPlus files\n",
    "\n",
    "### Download data file\n",
    "\n",
    "Download the weather file with extension .epw from http://climate.onebuilding.org or from https://energyplus.net/weather; for example: `FRA_Lyon.074810_IWEC.epw` or `FRA_AR_Lyon-Bron.AP.074800_TMYx.2004-2018`. \n",
    "\n",
    "### Read weather data\n"
   ]
  },
  {
   "cell_type": "code",
   "execution_count": 1,
   "id": "8b81357b-09f0-4905-8760-856582b31cd1",
   "metadata": {},
   "outputs": [],
   "source": [
    "from dm4bem import read_epw, sol_rad_tilt_surf\n",
    "\n",
    "filename = 'FRA_Lyon.074810_IWEC.epw'\n",
    "# filename = 'FRA_AR_Lyon-Bron.AP.074800_TMYx.2004-2018.epw'"
   ]
  },
  {
   "cell_type": "markdown",
   "id": "5102f423-a176-4814-8fba-65f52f2c920b",
   "metadata": {},
   "source": [
    "In weather file, data corresponding to each month is from another year. "
   ]
  },
  {
   "cell_type": "code",
   "execution_count": 2,
   "id": "65a93112-d989-41ca-afd5-29570bb381b2",
   "metadata": {},
   "outputs": [
    {
     "name": "stdout",
     "output_type": "stream",
     "text": [
      "Months - years in the dataset: ['1-1983', '10-1999', '11-1991', '12-1986', '2-1985', '3-1998', '4-1995', '5-1986', '6-1993', '7-1982', '8-1993', '9-1988']\n"
     ]
    }
   ],
   "source": [
    "[data, meta] = read_epw(filename, coerce_year=None)\n",
    "month_year = data['month'].astype(str) + '-' + data['year'].astype(str)\n",
    "print(f\"Months - years in the dataset: {sorted(set(month_year))}\")"
   ]
  },
  {
   "cell_type": "markdown",
   "id": "5f9530da-b33d-4ea1-b453-a2a6369c671b",
   "metadata": {},
   "source": [
    "From the dataset, select air temperature, normal solar radiation and diffuse solar radiationreceived during 60 minutes prior to timestamp. Change all year too the same year, e.g. 2000."
   ]
  },
  {
   "cell_type": "code",
   "execution_count": 3,
   "id": "9ed90e02-a7d0-4561-b903-4135af81a428",
   "metadata": {},
   "outputs": [],
   "source": [
    "weather_data = data[[\"temp_air\", \"dir_n_rad\", \"dif_h_rad\"]]\n",
    "weather_data.index = weather_data.index.map(lambda t: t.replace(year=2000))"
   ]
  },
  {
   "cell_type": "markdown",
   "id": "900d410b-83a8-43f9-a478-a60d578b6ef5",
   "metadata": {},
   "source": [
    "Select a period and the air temperature, normal solar radiation and diffuse solar radiationreceived during 60 minutes prior to timestamp. "
   ]
  },
  {
   "cell_type": "code",
   "execution_count": 4,
   "id": "27b24a18-40f7-43bb-966e-a2da5f5df720",
   "metadata": {},
   "outputs": [],
   "source": [
    "start_date = '2000-01-03 12:00:00'\n",
    "end_date = '2000-01-03 18:00:00'\n",
    "\n",
    "weather_data = weather_data[(weather_data.index >= start_date) & (\n",
    "    weather_data.index < end_date)]\n",
    "del data"
   ]
  },
  {
   "cell_type": "code",
   "execution_count": 15,
   "id": "eddb8ebc-2686-434e-862f-08af01e1488c",
   "metadata": {},
   "outputs": [
    {
     "data": {
      "text/html": [
       "<div>\n",
       "<style scoped>\n",
       "    .dataframe tbody tr th:only-of-type {\n",
       "        vertical-align: middle;\n",
       "    }\n",
       "\n",
       "    .dataframe tbody tr th {\n",
       "        vertical-align: top;\n",
       "    }\n",
       "\n",
       "    .dataframe thead th {\n",
       "        text-align: right;\n",
       "    }\n",
       "</style>\n",
       "<table border=\"1\" class=\"dataframe\">\n",
       "  <thead>\n",
       "    <tr style=\"text-align: right;\">\n",
       "      <th></th>\n",
       "      <th>temp_air</th>\n",
       "      <th>dir_n_rad</th>\n",
       "      <th>dif_h_rad</th>\n",
       "    </tr>\n",
       "  </thead>\n",
       "  <tbody>\n",
       "    <tr>\n",
       "      <th>2000-01-03 12:00:00+01:00</th>\n",
       "      <td>6.8</td>\n",
       "      <td>6</td>\n",
       "      <td>133</td>\n",
       "    </tr>\n",
       "    <tr>\n",
       "      <th>2000-01-03 13:00:00+01:00</th>\n",
       "      <td>8.0</td>\n",
       "      <td>74</td>\n",
       "      <td>150</td>\n",
       "    </tr>\n",
       "    <tr>\n",
       "      <th>2000-01-03 14:00:00+01:00</th>\n",
       "      <td>10.0</td>\n",
       "      <td>90</td>\n",
       "      <td>135</td>\n",
       "    </tr>\n",
       "    <tr>\n",
       "      <th>2000-01-03 15:00:00+01:00</th>\n",
       "      <td>9.0</td>\n",
       "      <td>64</td>\n",
       "      <td>84</td>\n",
       "    </tr>\n",
       "    <tr>\n",
       "      <th>2000-01-03 16:00:00+01:00</th>\n",
       "      <td>8.0</td>\n",
       "      <td>0</td>\n",
       "      <td>19</td>\n",
       "    </tr>\n",
       "    <tr>\n",
       "      <th>2000-01-03 17:00:00+01:00</th>\n",
       "      <td>6.0</td>\n",
       "      <td>0</td>\n",
       "      <td>0</td>\n",
       "    </tr>\n",
       "  </tbody>\n",
       "</table>\n",
       "</div>"
      ],
      "text/plain": [
       "                           temp_air  dir_n_rad  dif_h_rad\n",
       "2000-01-03 12:00:00+01:00       6.8          6        133\n",
       "2000-01-03 13:00:00+01:00       8.0         74        150\n",
       "2000-01-03 14:00:00+01:00      10.0         90        135\n",
       "2000-01-03 15:00:00+01:00       9.0         64         84\n",
       "2000-01-03 16:00:00+01:00       8.0          0         19\n",
       "2000-01-03 17:00:00+01:00       6.0          0          0"
      ]
     },
     "execution_count": 15,
     "metadata": {},
     "output_type": "execute_result"
    }
   ],
   "source": [
    "weather_data"
   ]
  },
  {
   "cell_type": "markdown",
   "id": "87599632-7359-498e-9959-01e54e28cc5d",
   "metadata": {},
   "source": [
    "### Solar radiation on a tilted surface\n",
    "\n",
    "Given a tilted wall and knowing the albedo of the surface in front of it, calculate the direct, diffuse and reflected radiation incident on the wall."
   ]
  },
  {
   "cell_type": "code",
   "execution_count": 16,
   "id": "c9897338-a011-46d5-86a8-9a963250fe2d",
   "metadata": {},
   "outputs": [
    {
     "data": {
      "text/html": [
       "<div>\n",
       "<style scoped>\n",
       "    .dataframe tbody tr th:only-of-type {\n",
       "        vertical-align: middle;\n",
       "    }\n",
       "\n",
       "    .dataframe tbody tr th {\n",
       "        vertical-align: top;\n",
       "    }\n",
       "\n",
       "    .dataframe thead th {\n",
       "        text-align: right;\n",
       "    }\n",
       "</style>\n",
       "<table border=\"1\" class=\"dataframe\">\n",
       "  <thead>\n",
       "    <tr style=\"text-align: right;\">\n",
       "      <th></th>\n",
       "      <th>direct</th>\n",
       "      <th>diffuse</th>\n",
       "      <th>reflected</th>\n",
       "    </tr>\n",
       "  </thead>\n",
       "  <tbody>\n",
       "    <tr>\n",
       "      <th>2000-01-03 12:00:00+01:00</th>\n",
       "      <td>5.423683</td>\n",
       "      <td>66.5</td>\n",
       "      <td>27.025936</td>\n",
       "    </tr>\n",
       "    <tr>\n",
       "      <th>2000-01-03 13:00:00+01:00</th>\n",
       "      <td>62.074669</td>\n",
       "      <td>75.0</td>\n",
       "      <td>34.289730</td>\n",
       "    </tr>\n",
       "    <tr>\n",
       "      <th>2000-01-03 14:00:00+01:00</th>\n",
       "      <td>66.175859</td>\n",
       "      <td>67.5</td>\n",
       "      <td>30.353167</td>\n",
       "    </tr>\n",
       "    <tr>\n",
       "      <th>2000-01-03 15:00:00+01:00</th>\n",
       "      <td>38.420856</td>\n",
       "      <td>42.0</td>\n",
       "      <td>17.456968</td>\n",
       "    </tr>\n",
       "    <tr>\n",
       "      <th>2000-01-03 16:00:00+01:00</th>\n",
       "      <td>0.000000</td>\n",
       "      <td>9.5</td>\n",
       "      <td>3.800000</td>\n",
       "    </tr>\n",
       "    <tr>\n",
       "      <th>2000-01-03 17:00:00+01:00</th>\n",
       "      <td>0.000000</td>\n",
       "      <td>0.0</td>\n",
       "      <td>0.000000</td>\n",
       "    </tr>\n",
       "  </tbody>\n",
       "</table>\n",
       "</div>"
      ],
      "text/plain": [
       "                              direct  diffuse  reflected\n",
       "2000-01-03 12:00:00+01:00   5.423683     66.5  27.025936\n",
       "2000-01-03 13:00:00+01:00  62.074669     75.0  34.289730\n",
       "2000-01-03 14:00:00+01:00  66.175859     67.5  30.353167\n",
       "2000-01-03 15:00:00+01:00  38.420856     42.0  17.456968\n",
       "2000-01-03 16:00:00+01:00   0.000000      9.5   3.800000\n",
       "2000-01-03 17:00:00+01:00   0.000000      0.0   0.000000"
      ]
     },
     "execution_count": 16,
     "metadata": {},
     "output_type": "execute_result"
    }
   ],
   "source": [
    "surface_orientation = {'slope': 90,\n",
    "                       'azimuth': 0,\n",
    "                       'latitude': 45}\n",
    "albedo = 0.2\n",
    "\n",
    "rad_surf = sol_rad_tilt_surf(\n",
    "    weather_data, surface_orientation, albedo)\n",
    "\n",
    "rad_surf"
   ]
  },
  {
   "cell_type": "markdown",
   "id": "02b5e59f-1a59-4f57-85a3-4a0e4ad4ff89",
   "metadata": {
    "tags": []
   },
   "source": [
    "## Solar radiation on a tilted surface `sol_rad_tilt_sur`\n",
    "\n",
    "Let’s consider a tilted surface having another surface (e.g., ground) in front of it. Given the weather data, the surface orientation, and the albedo of the ground in front of the surface, find the direct, diffuse and reflected solar radiation for this surface. "
   ]
  },
  {
   "cell_type": "code",
   "execution_count": 7,
   "id": "9efc07e9-03fb-44d7-92da-03c6c5a8797d",
   "metadata": {},
   "outputs": [],
   "source": [
    "import numpy as np\n",
    "import pandas as pd\n",
    "\n",
    "B = surface_orientation['slope']\n",
    "Z = surface_orientation['azimuth']\n",
    "L = surface_orientation['latitude']\n",
    "\n",
    "# Transform degrees in radians\n",
    "B = B * np.pi / 180\n",
    "Z = Z * np.pi / 180\n",
    "L = L * np.pi / 180\n",
    "\n",
    "n = weather_data.index.dayofyear"
   ]
  },
  {
   "cell_type": "markdown",
   "id": "27cdc80e-65dd-4311-b36b-8b451aa4ace2",
   "metadata": {
    "tags": []
   },
   "source": [
    "**Total solar radiation** is the amount of radiation received on a surface during the number of minutes preceding the time indicated:\n",
    "\n",
    "$$ G_{sr} = G_{dir} + G_{dif} + G_r$$\n",
    "\n",
    "where:\n",
    "\n",
    "- $G_{dir}$ **direct normal** or **beam radiation**: amount of solar radiation received directly from the solar disk on a surface perpendicular to the sun’s rays, during the number of minutes preceding the time indicated, Wh/m².\n",
    "\n",
    "- $G_{dif}$ **diffuse radiation**: amount of solar radiation received after scattering by the atmosphere, Wh/m². Note: it does not include the diffuse infrared radiation emitted by the atmosphere.\n",
    "\n",
    "- $G_r$ **total solar radiation coming by reflection** from the surface in front of the wall (usually, ground), Wh/m²."
   ]
  },
  {
   "cell_type": "markdown",
   "id": "0d3709c3-8f84-4b24-92d8-457d3ecbe972",
   "metadata": {
    "tags": []
   },
   "source": [
    "### Direct radiation, $G_{dir}$\n",
    "\n",
    "The direct radiation on the surface, $G_{dir}$, depends on the *direct normal (or beam) radiation*, $G_n$, and the *incidence angle*, $\\theta$, between the solar beam and the normal to the wall [2] (§11.2.1).\n",
    "\n",
    "In order to calculate the *incidence angle*, $\\theta$, we need:\n",
    "\n",
    "- $\\phi$ *latitude*, the angle between the position and the Equator, ranging from 0° at the Equator to 90° at the North Pole and -90° at the South Pole. $-90 ^{\\circ} \\leq \\phi \\leq 90 ^{\\circ}$\n",
    "\n",
    "- $\\beta$ *slope*, the angle between the plane of the surface and the horizontal. $\\beta > 90 ^{\\circ}$\n",
    "\n",
    "- $\\gamma$ *azimuth*, the angle between the projection on a horizontal plane of the normal to the surface and the local meridian; south is zero, east negative, and west positive. $-180 ^{\\circ} \\leq \\gamma \\leq 180 ^{\\circ}$.\n",
    "\n",
    "- $\\delta$ *declination angle*, the angle between the sun at noon (i.e., when the sun is on the local meridian) and the plane of the equator, north positive [1](eq. 1.6.1a), [2](§11.2.1.1, eq. (78)):\n",
    "$$ \\delta = 23.45 \\sin \\left( 360 \\frac{284 + n}{365} \\right)$$"
   ]
  },
  {
   "cell_type": "code",
   "execution_count": 8,
   "id": "2be3bb50-7853-4ac2-a2c8-11780f5fee30",
   "metadata": {},
   "outputs": [],
   "source": [
    "declination_angle = 23.45 * np.sin(360 * (284 + n) / 365 * np.pi / 180)\n",
    "d = declination_angle * np.pi / 180"
   ]
  },
  {
   "cell_type": "markdown",
   "id": "22e87fe0-ea7d-46f8-99cd-bb166fdc3927",
   "metadata": {
    "tags": []
   },
   "source": [
    "- $\\omega$ *hour angle*, the angle between the sun and the local meridian due to rotation of the earth around its axis at 15° per hour [1]:\n",
    "\n",
    "$$ \\omega = 15\\left ( hour + \\frac{minute}{60} - 12 \\right )$$\n",
    "\n",
    "where *hour* and *minute* is the solar time:"
   ]
  },
  {
   "cell_type": "code",
   "execution_count": 9,
   "id": "163fe70e-7487-495a-b180-8c5d425d2da6",
   "metadata": {},
   "outputs": [],
   "source": [
    "hour = weather_data.index.hour\n",
    "minute = weather_data.index.minute + 60\n",
    "hour_angle = 15 * ((hour + minute / 60) - 12)\n",
    "h = hour_angle * np.pi / 180"
   ]
  },
  {
   "cell_type": "markdown",
   "id": "eb715f69-164c-40c5-840a-30d85fc057aa",
   "metadata": {
    "tags": []
   },
   "source": [
    "$-180 ^{\\circ} \\leq \\omega \\leq 180 ^{\\circ}$. $\\omega < 0$ in the morning, $\\omega = 0$ at noon, and $\\omega > 0$ in the afternoon. Hour angle is used with the declination to give the direction of  apoint on the celestial sphere."
   ]
  },
  {
   "cell_type": "markdown",
   "id": "c56602de-08c5-4457-abdf-6c01b4372fae",
   "metadata": {
    "tags": []
   },
   "source": [
    "The **incidence angle**, $\\theta$, is the angle between the solar beam on the surface and the normal to the surface [1](eq. 1.6.2), [2] (eq. 78):\n",
    "\n",
    "$$\\theta = \\arccos (\\sin \\delta \\sin \\phi \\cos \\beta - \\sin \\delta \\cos \\phi \\sin \\beta \\cos \\gamma + \\cos \\delta \\cos \\phi \\cos \\beta \\cos \\omega + \\cos \\delta \\sin \\phi \\sin \\beta \\cos \\gamma \\cos \\omega + \\cos \\delta \\sin \\beta \\sin \\gamma \\sin \\omega)$$"
   ]
  },
  {
   "cell_type": "code",
   "execution_count": 10,
   "id": "5ebeaeb2-3120-4b34-b433-6f3741c8259c",
   "metadata": {},
   "outputs": [],
   "source": [
    "theta = np.sin(d) * np.sin(L) * np.cos(B)\n",
    "theta -= np.sin(d) * np.cos(L) * np.sin(B) * np.cos(Z)\n",
    "theta += np.cos(d) * np.cos(L) * np.cos(B) * np.cos(h)\n",
    "theta += np.cos(d) * np.sin(L) * np.sin(B) * np.cos(Z) * np.cos(h)\n",
    "theta += np.cos(d) * np.sin(B) * np.sin(Z) * np.sin(h)\n",
    "theta = np.array(np.arccos(theta))\n",
    "theta[theta > (np.pi / 2)] = np.pi / 2"
   ]
  },
  {
   "cell_type": "markdown",
   "id": "335c4084-dadd-4449-9f9d-764bef586b08",
   "metadata": {
    "tags": []
   },
   "source": [
    "The **direct radiation**, $G_{dir}$ on the surface is:\n",
    "\n",
    "$$G_{dir} = G_{dir,n} \\cos \\theta$$\n",
    "\n",
    "where *direct normal radiation* or *beam radiation*, $G_n$, is the amount of solar radiation (in Wh/m²) received directly from the solar disk on the surface perpendicular to the sun’s rays, during the number of minutes preceding the time indicated. It is given by weather data."
   ]
  },
  {
   "cell_type": "code",
   "execution_count": 11,
   "id": "b8d70796-bad0-465a-bdbf-7f0d1e52a0fb",
   "metadata": {
    "tags": []
   },
   "outputs": [],
   "source": [
    "dir_rad = weather_data[\"dir_n_rad\"] * np.cos(theta)\n",
    "dir_rad[dir_rad < 0] = 0"
   ]
  },
  {
   "cell_type": "markdown",
   "id": "39d85cd9-9bcb-466c-9c3b-660f50335195",
   "metadata": {
    "tags": []
   },
   "source": [
    "### Diffuse Radiation, $G_{dif}$\n",
    "\n",
    "The diffuse radiation on the wall is a function on its slope, $\\beta$, and \n",
    "the isotropic diffuse solar radiation, $G_{dif,h}$, [2](§1.2.1.2, eq. 79, p. 31):\n",
    "\n",
    "$$ G_{dif} = G_{dif,h} (1 + \\cos \\beta) / 2$$"
   ]
  },
  {
   "cell_type": "code",
   "execution_count": 12,
   "id": "dc1433f1-9ab8-4bfe-aa4d-57e831c4b0bb",
   "metadata": {},
   "outputs": [],
   "source": [
    "dif_rad = weather_data[\"dif_h_rad\"] * (1 + np.cos(B)) / 2"
   ]
  },
  {
   "cell_type": "markdown",
   "id": "0ad26b98-c46c-4f0a-aa99-a556aad73a56",
   "metadata": {
    "tags": []
   },
   "source": [
    "### Solar radiation reflected by the ground\n",
    "\n",
    "Considering the radiation reflected by the ground as isotropic, the reflected radiation that gets onto the wall is a function of its slope, albedo and total horizontal radaition [2](§11.2.1.3).\n",
    "\n",
    "The normal horizontal radiation is [2] (eq. 80):\n",
    "$$ G_{dir,h} = G_{dn} \\sin \\gamma$$"
   ]
  },
  {
   "cell_type": "code",
   "execution_count": 13,
   "id": "fa0ba0c1-387f-4420-85e4-31d1da66e173",
   "metadata": {
    "tags": []
   },
   "outputs": [],
   "source": [
    "gamma = np.cos(d) * np.cos(L) * np.cos(h)\n",
    "gamma += np.sin(d) * np.sin(L)\n",
    "gamma = np.array(np.arcsin(gamma))\n",
    "gamma[gamma < 1e-5] = 1e-5\n",
    "\n",
    "dir_h_rad = weather_data[\"dir_n_rad\"] * np.sin(gamma)"
   ]
  },
  {
   "cell_type": "markdown",
   "id": "7bdf8aef-d950-44fd-881e-1efce3f98a47",
   "metadata": {
    "tags": []
   },
   "source": [
    "The total radiation received by reflection is:\n",
    "$$G_r = (G_{dir,h} + G_{dif,h}) albedo (1 - \\cos \\beta)/2$$"
   ]
  },
  {
   "cell_type": "code",
   "execution_count": 14,
   "id": "f243bb80-8570-4007-bfe8-1d4594bbf129",
   "metadata": {},
   "outputs": [],
   "source": [
    "ref_rad = (dir_h_rad + weather_data[\"dif_h_rad\"]) * albedo\n",
    "ref_rad *= (1 - np.cos(B) / 2)"
   ]
  },
  {
   "cell_type": "markdown",
   "id": "ae400472-1031-49cf-85e9-e45a71afe069",
   "metadata": {
    "tags": []
   },
   "source": [
    "### Definitions\n",
    "\n",
    "$G_{dir,n}$ **Direct normal** or **beam radiation**. Amount of solar radiation in Wh/m² received directly from the solar disk on a surface perpendicular to the sun’s rays, during the number of minutes preceding the time indicated.\n",
    "\n",
    "$G_{dif,h}$ **Diffuse horizontal radiation**. Amount of solar radiation in Wh/m² received after scattering by the atmosphere. This definition distinguishes the diffuse solar radiation from infrared radiation emitted by the atmosphere.\n",
    "\n",
    "**Total Solar Radiation**. Total amount of direct and diffuse solar radiation in Wh/m² received on a  surface during the number of minutes preceding the time indicated.\n",
    "\n",
    "**Global radiation.** Total solar radiation given on a horizontal surface.\n",
    "\n",
    "**Solar Time.** Time based on the apparent position of the sun in the sky with noon the time when the sun crosses the observer meridian. \n",
    "\n",
    "### Definitions for angles (in degrees)\n",
    "\n",
    "$\\phi$ **Latitude.** Angle between the position and the Equator, ranging from 0° at the Equator to 90° at the North Pole and -90° at the South Pole. $-90 ^{\\circ} \\leq \\phi \\leq 90 ^{\\circ}$\n",
    "\n",
    "$\\beta$ **Slope.** Angle between the plane of the surface and the horizontal. $\\beta > 90 ^{\\circ}$\n",
    "\n",
    "$\\gamma$ **Azimuth.** Angle between the projection on a horizontal plane of the normal to the surface and the local meridian; south is zero, east negative, and west positive. $-180 ^{\\circ} \\leq \\gamma \\leq 180 ^{\\circ}$.\n",
    "\n",
    "$\\delta$ **Declination.** Angle between the sun at noon (i.e., when the sun is on the local meridian) and the plane of the equator, north positive [1, eq. 1.6.1a):\n",
    "\n",
    "$$ \\delta = 23.45 \\sin \\left( 360 \\frac{284 + n}{365} \\right)$$\n",
    "\n",
    "where $n$ is the day of the year. $-23.45 ^{\\circ} \\leq \\delta \\leq 23.45 ^{\\circ}$. Declination is used with hour angle to give the direction of apoint on the celestial sphere.\n",
    "\n",
    "$\\omega$ **Hour angle.** Angle between the sun and the local meridian due to rotation of the earth around its axis at 15° per hour [1]:\n",
    "\n",
    "$$ \\omega = 15\\left ( hour + \\frac{minute}{60} - 12 \\right )$$\n",
    "\n",
    "where *hour* and *minute* is the solar time. $-180 ^{\\circ} \\leq \\omega \\leq 180 ^{\\circ}$; $\\omega < 0$ in the morning, $\\omega = 0$ at noon, and $\\omega > 0$ in the afternoon. Hour angle is used with the declination to give the direction of  apoint on the celestial sphere.\n",
    "\n",
    "$\\theta$ **Incidence.** Angle between the solar beam on the surface and the normal to the surface [1, eq. 1.6.2]:\n",
    "\n",
    "$$\\theta = \\arccos (\\sin \\delta \\sin \\phi \\cos \\beta - \\sin \\delta \\cos \\phi \\sin \\beta \\cos \\gamma + \\cos \\delta \\cos \\phi \\cos \\beta \\cos \\omega + \\cos \\delta \\sin \\phi \\sin \\beta \\cos \\gamma \\cos \\omega + \\cos \\delta \\sin \\beta \\sin \\gamma \\sin \\omega)$$\n",
    "\n"
   ]
  },
  {
   "cell_type": "markdown",
   "id": "9b3a7d18-8134-4c03-b5fe-ee624567e94d",
   "metadata": {},
   "source": [
    "## References\n",
    "\n",
    "1. J.A. Duffie, W. A. Beckman, N. Blair (2020) Solar Engineering of Thermal Processes, 5th ed. John Wiley & Sons, Inc. ISBN 9781119540281\n",
    "\n",
    "2. Réglementation Thermique 2005. Méthode de calcul Th-CE. Annexe à l’arrêté du 19 juillet 2006"
   ]
  }
 ],
 "metadata": {
  "kernelspec": {
   "display_name": "Python 3",
   "language": "python",
   "name": "python3"
  },
  "language_info": {
   "codemirror_mode": {
    "name": "ipython",
    "version": 3
   },
   "file_extension": ".py",
   "mimetype": "text/x-python",
   "name": "python",
   "nbconvert_exporter": "python",
   "pygments_lexer": "ipython3",
   "version": "3.8.8"
  }
 },
 "nbformat": 4,
 "nbformat_minor": 5
}
